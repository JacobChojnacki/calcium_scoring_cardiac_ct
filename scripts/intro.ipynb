{
 "cells": [
  {
   "cell_type": "code",
   "execution_count": 1,
   "metadata": {},
   "outputs": [],
   "source": [
    "import shutil\n",
    "\n",
    "from pathlib import Path\n",
    "\n",
    "from calculate_agatston import main\n",
    "from inference import Inference\n",
    "from tqdm import tqdm"
   ]
  },
  {
   "cell_type": "markdown",
   "metadata": {},
   "source": [
    "### Constants"
   ]
  },
  {
   "cell_type": "code",
   "execution_count": 2,
   "metadata": {},
   "outputs": [],
   "source": [
    "images_folder = Path('../.data/CaScore/images')\n",
    "output_dir = Path('../.data/CaScore/model_output')\n",
    "model_ckpt = Path('../.data/CaScore/model_ckpt/raunet_3D.ckpt')\n",
    "only_plaques = True\n",
    "soft_inference = False\n",
    "model = 'raunet'\n",
    "type_of_input_data = '3D'"
   ]
  },
  {
   "cell_type": "markdown",
   "metadata": {},
   "source": [
    "### Initialize Inference"
   ]
  },
  {
   "cell_type": "code",
   "execution_count": 3,
   "metadata": {},
   "outputs": [
    {
     "ename": "RuntimeError",
     "evalue": "Error(s) in loading state_dict for RaUNet2D:\n\tsize mismatch for _model.model.0.conv.0.conv.unit0.conv.weight: copying a param with shape torch.Size([16, 1, 3, 3, 3]) from checkpoint, the shape in current model is torch.Size([16, 1, 3, 3]).\n\tsize mismatch for _model.model.0.conv.0.conv.unit1.conv.weight: copying a param with shape torch.Size([16, 16, 3, 3, 3]) from checkpoint, the shape in current model is torch.Size([16, 16, 3, 3]).\n\tsize mismatch for _model.model.0.conv.0.residual.weight: copying a param with shape torch.Size([16, 1, 1, 1, 1]) from checkpoint, the shape in current model is torch.Size([16, 1, 1, 1]).\n\tsize mismatch for _model.model.0.conv.1.conv.unit0.conv.weight: copying a param with shape torch.Size([16, 16, 3, 3, 3]) from checkpoint, the shape in current model is torch.Size([16, 16, 3, 3]).\n\tsize mismatch for _model.model.0.conv.1.conv.unit1.conv.weight: copying a param with shape torch.Size([16, 16, 3, 3, 3]) from checkpoint, the shape in current model is torch.Size([16, 16, 3, 3]).\n\tsize mismatch for _model.model.1.attention.W_g.0.conv.unit0.conv.weight: copying a param with shape torch.Size([8, 16, 1, 1, 1]) from checkpoint, the shape in current model is torch.Size([8, 16, 1, 1]).\n\tsize mismatch for _model.model.1.attention.W_g.0.conv.unit1.conv.weight: copying a param with shape torch.Size([8, 8, 1, 1, 1]) from checkpoint, the shape in current model is torch.Size([8, 8, 1, 1]).\n\tsize mismatch for _model.model.1.attention.W_g.0.residual.weight: copying a param with shape torch.Size([8, 16, 1, 1, 1]) from checkpoint, the shape in current model is torch.Size([8, 16, 1, 1]).\n\tsize mismatch for _model.model.1.attention.W_x.0.conv.unit0.conv.weight: copying a param with shape torch.Size([8, 16, 1, 1, 1]) from checkpoint, the shape in current model is torch.Size([8, 16, 1, 1]).\n\tsize mismatch for _model.model.1.attention.W_x.0.conv.unit1.conv.weight: copying a param with shape torch.Size([8, 8, 1, 1, 1]) from checkpoint, the shape in current model is torch.Size([8, 8, 1, 1]).\n\tsize mismatch for _model.model.1.attention.W_x.0.residual.weight: copying a param with shape torch.Size([8, 16, 1, 1, 1]) from checkpoint, the shape in current model is torch.Size([8, 16, 1, 1]).\n\tsize mismatch for _model.model.1.attention.psi.0.conv.unit0.conv.weight: copying a param with shape torch.Size([1, 8, 1, 1, 1]) from checkpoint, the shape in current model is torch.Size([1, 8, 1, 1]).\n\tsize mismatch for _model.model.1.attention.psi.0.conv.unit1.conv.weight: copying a param with shape torch.Size([1, 1, 1, 1, 1]) from checkpoint, the shape in current model is torch.Size([1, 1, 1, 1]).\n\tsize mismatch for _model.model.1.attention.psi.0.residual.weight: copying a param with shape torch.Size([1, 8, 1, 1, 1]) from checkpoint, the shape in current model is torch.Size([1, 8, 1, 1]).\n\tsize mismatch for _model.model.1.upconv.conv.conv.weight: copying a param with shape torch.Size([16, 32, 3, 3, 3]) from checkpoint, the shape in current model is torch.Size([16, 32, 3, 3]).\n\tsize mismatch for _model.model.1.upconv.ru.conv.unit0.conv.weight: copying a param with shape torch.Size([16, 16, 3, 3, 3]) from checkpoint, the shape in current model is torch.Size([16, 16, 3, 3]).\n\tsize mismatch for _model.model.1.upconv.up.1.conv.weight: copying a param with shape torch.Size([16, 32, 3, 3, 3]) from checkpoint, the shape in current model is torch.Size([16, 32, 3, 3]).\n\tsize mismatch for _model.model.1.upconv.up.2.conv.unit0.conv.weight: copying a param with shape torch.Size([16, 16, 3, 3, 3]) from checkpoint, the shape in current model is torch.Size([16, 16, 3, 3]).\n\tsize mismatch for _model.model.1.merge.conv.unit0.conv.weight: copying a param with shape torch.Size([16, 32, 3, 3, 3]) from checkpoint, the shape in current model is torch.Size([16, 32, 3, 3]).\n\tsize mismatch for _model.model.1.merge.conv.unit1.conv.weight: copying a param with shape torch.Size([16, 16, 3, 3, 3]) from checkpoint, the shape in current model is torch.Size([16, 16, 3, 3]).\n\tsize mismatch for _model.model.1.merge.residual.weight: copying a param with shape torch.Size([16, 32, 1, 1, 1]) from checkpoint, the shape in current model is torch.Size([16, 32, 1, 1]).\n\tsize mismatch for _model.model.1.submodule.0.conv.0.conv.unit0.conv.weight: copying a param with shape torch.Size([32, 16, 3, 3, 3]) from checkpoint, the shape in current model is torch.Size([32, 16, 3, 3]).\n\tsize mismatch for _model.model.1.submodule.0.conv.0.conv.unit1.conv.weight: copying a param with shape torch.Size([32, 32, 3, 3, 3]) from checkpoint, the shape in current model is torch.Size([32, 32, 3, 3]).\n\tsize mismatch for _model.model.1.submodule.0.conv.0.residual.weight: copying a param with shape torch.Size([32, 16, 3, 3, 3]) from checkpoint, the shape in current model is torch.Size([32, 16, 3, 3]).\n\tsize mismatch for _model.model.1.submodule.0.conv.1.conv.unit0.conv.weight: copying a param with shape torch.Size([32, 32, 3, 3, 3]) from checkpoint, the shape in current model is torch.Size([32, 32, 3, 3]).\n\tsize mismatch for _model.model.1.submodule.0.conv.1.conv.unit1.conv.weight: copying a param with shape torch.Size([32, 32, 3, 3, 3]) from checkpoint, the shape in current model is torch.Size([32, 32, 3, 3]).\n\tsize mismatch for _model.model.1.submodule.1.attention.W_g.0.conv.unit0.conv.weight: copying a param with shape torch.Size([16, 32, 1, 1, 1]) from checkpoint, the shape in current model is torch.Size([16, 32, 1, 1]).\n\tsize mismatch for _model.model.1.submodule.1.attention.W_g.0.conv.unit1.conv.weight: copying a param with shape torch.Size([16, 16, 1, 1, 1]) from checkpoint, the shape in current model is torch.Size([16, 16, 1, 1]).\n\tsize mismatch for _model.model.1.submodule.1.attention.W_g.0.residual.weight: copying a param with shape torch.Size([16, 32, 1, 1, 1]) from checkpoint, the shape in current model is torch.Size([16, 32, 1, 1]).\n\tsize mismatch for _model.model.1.submodule.1.attention.W_x.0.conv.unit0.conv.weight: copying a param with shape torch.Size([16, 32, 1, 1, 1]) from checkpoint, the shape in current model is torch.Size([16, 32, 1, 1]).\n\tsize mismatch for _model.model.1.submodule.1.attention.W_x.0.conv.unit1.conv.weight: copying a param with shape torch.Size([16, 16, 1, 1, 1]) from checkpoint, the shape in current model is torch.Size([16, 16, 1, 1]).\n\tsize mismatch for _model.model.1.submodule.1.attention.W_x.0.residual.weight: copying a param with shape torch.Size([16, 32, 1, 1, 1]) from checkpoint, the shape in current model is torch.Size([16, 32, 1, 1]).\n\tsize mismatch for _model.model.1.submodule.1.attention.psi.0.conv.unit0.conv.weight: copying a param with shape torch.Size([1, 16, 1, 1, 1]) from checkpoint, the shape in current model is torch.Size([1, 16, 1, 1]).\n\tsize mismatch for _model.model.1.submodule.1.attention.psi.0.conv.unit1.conv.weight: copying a param with shape torch.Size([1, 1, 1, 1, 1]) from checkpoint, the shape in current model is torch.Size([1, 1, 1, 1]).\n\tsize mismatch for _model.model.1.submodule.1.attention.psi.0.residual.weight: copying a param with shape torch.Size([1, 16, 1, 1, 1]) from checkpoint, the shape in current model is torch.Size([1, 16, 1, 1]).\n\tsize mismatch for _model.model.1.submodule.1.upconv.conv.conv.weight: copying a param with shape torch.Size([32, 64, 3, 3, 3]) from checkpoint, the shape in current model is torch.Size([32, 64, 3, 3]).\n\tsize mismatch for _model.model.1.submodule.1.upconv.ru.conv.unit0.conv.weight: copying a param with shape torch.Size([32, 32, 3, 3, 3]) from checkpoint, the shape in current model is torch.Size([32, 32, 3, 3]).\n\tsize mismatch for _model.model.1.submodule.1.upconv.up.1.conv.weight: copying a param with shape torch.Size([32, 64, 3, 3, 3]) from checkpoint, the shape in current model is torch.Size([32, 64, 3, 3]).\n\tsize mismatch for _model.model.1.submodule.1.upconv.up.2.conv.unit0.conv.weight: copying a param with shape torch.Size([32, 32, 3, 3, 3]) from checkpoint, the shape in current model is torch.Size([32, 32, 3, 3]).\n\tsize mismatch for _model.model.1.submodule.1.merge.conv.unit0.conv.weight: copying a param with shape torch.Size([32, 64, 3, 3, 3]) from checkpoint, the shape in current model is torch.Size([32, 64, 3, 3]).\n\tsize mismatch for _model.model.1.submodule.1.merge.conv.unit1.conv.weight: copying a param with shape torch.Size([32, 32, 3, 3, 3]) from checkpoint, the shape in current model is torch.Size([32, 32, 3, 3]).\n\tsize mismatch for _model.model.1.submodule.1.merge.residual.weight: copying a param with shape torch.Size([32, 64, 1, 1, 1]) from checkpoint, the shape in current model is torch.Size([32, 64, 1, 1]).\n\tsize mismatch for _model.model.1.submodule.1.submodule.0.conv.0.conv.unit0.conv.weight: copying a param with shape torch.Size([64, 32, 3, 3, 3]) from checkpoint, the shape in current model is torch.Size([64, 32, 3, 3]).\n\tsize mismatch for _model.model.1.submodule.1.submodule.0.conv.0.conv.unit1.conv.weight: copying a param with shape torch.Size([64, 64, 3, 3, 3]) from checkpoint, the shape in current model is torch.Size([64, 64, 3, 3]).\n\tsize mismatch for _model.model.1.submodule.1.submodule.0.conv.0.residual.weight: copying a param with shape torch.Size([64, 32, 3, 3, 3]) from checkpoint, the shape in current model is torch.Size([64, 32, 3, 3]).\n\tsize mismatch for _model.model.1.submodule.1.submodule.0.conv.1.conv.unit0.conv.weight: copying a param with shape torch.Size([64, 64, 3, 3, 3]) from checkpoint, the shape in current model is torch.Size([64, 64, 3, 3]).\n\tsize mismatch for _model.model.1.submodule.1.submodule.0.conv.1.conv.unit1.conv.weight: copying a param with shape torch.Size([64, 64, 3, 3, 3]) from checkpoint, the shape in current model is torch.Size([64, 64, 3, 3]).\n\tsize mismatch for _model.model.1.submodule.1.submodule.1.attention.W_g.0.conv.unit0.conv.weight: copying a param with shape torch.Size([32, 64, 1, 1, 1]) from checkpoint, the shape in current model is torch.Size([32, 64, 1, 1]).\n\tsize mismatch for _model.model.1.submodule.1.submodule.1.attention.W_g.0.conv.unit1.conv.weight: copying a param with shape torch.Size([32, 32, 1, 1, 1]) from checkpoint, the shape in current model is torch.Size([32, 32, 1, 1]).\n\tsize mismatch for _model.model.1.submodule.1.submodule.1.attention.W_g.0.residual.weight: copying a param with shape torch.Size([32, 64, 1, 1, 1]) from checkpoint, the shape in current model is torch.Size([32, 64, 1, 1]).\n\tsize mismatch for _model.model.1.submodule.1.submodule.1.attention.W_x.0.conv.unit0.conv.weight: copying a param with shape torch.Size([32, 64, 1, 1, 1]) from checkpoint, the shape in current model is torch.Size([32, 64, 1, 1]).\n\tsize mismatch for _model.model.1.submodule.1.submodule.1.attention.W_x.0.conv.unit1.conv.weight: copying a param with shape torch.Size([32, 32, 1, 1, 1]) from checkpoint, the shape in current model is torch.Size([32, 32, 1, 1]).\n\tsize mismatch for _model.model.1.submodule.1.submodule.1.attention.W_x.0.residual.weight: copying a param with shape torch.Size([32, 64, 1, 1, 1]) from checkpoint, the shape in current model is torch.Size([32, 64, 1, 1]).\n\tsize mismatch for _model.model.1.submodule.1.submodule.1.attention.psi.0.conv.unit0.conv.weight: copying a param with shape torch.Size([1, 32, 1, 1, 1]) from checkpoint, the shape in current model is torch.Size([1, 32, 1, 1]).\n\tsize mismatch for _model.model.1.submodule.1.submodule.1.attention.psi.0.conv.unit1.conv.weight: copying a param with shape torch.Size([1, 1, 1, 1, 1]) from checkpoint, the shape in current model is torch.Size([1, 1, 1, 1]).\n\tsize mismatch for _model.model.1.submodule.1.submodule.1.attention.psi.0.residual.weight: copying a param with shape torch.Size([1, 32, 1, 1, 1]) from checkpoint, the shape in current model is torch.Size([1, 32, 1, 1]).\n\tsize mismatch for _model.model.1.submodule.1.submodule.1.upconv.conv.conv.weight: copying a param with shape torch.Size([64, 128, 3, 3, 3]) from checkpoint, the shape in current model is torch.Size([64, 128, 3, 3]).\n\tsize mismatch for _model.model.1.submodule.1.submodule.1.upconv.ru.conv.unit0.conv.weight: copying a param with shape torch.Size([64, 64, 3, 3, 3]) from checkpoint, the shape in current model is torch.Size([64, 64, 3, 3]).\n\tsize mismatch for _model.model.1.submodule.1.submodule.1.upconv.up.1.conv.weight: copying a param with shape torch.Size([64, 128, 3, 3, 3]) from checkpoint, the shape in current model is torch.Size([64, 128, 3, 3]).\n\tsize mismatch for _model.model.1.submodule.1.submodule.1.upconv.up.2.conv.unit0.conv.weight: copying a param with shape torch.Size([64, 64, 3, 3, 3]) from checkpoint, the shape in current model is torch.Size([64, 64, 3, 3]).\n\tsize mismatch for _model.model.1.submodule.1.submodule.1.merge.conv.unit0.conv.weight: copying a param with shape torch.Size([64, 128, 3, 3, 3]) from checkpoint, the shape in current model is torch.Size([64, 128, 3, 3]).\n\tsize mismatch for _model.model.1.submodule.1.submodule.1.merge.conv.unit1.conv.weight: copying a param with shape torch.Size([64, 64, 3, 3, 3]) from checkpoint, the shape in current model is torch.Size([64, 64, 3, 3]).\n\tsize mismatch for _model.model.1.submodule.1.submodule.1.merge.residual.weight: copying a param with shape torch.Size([64, 128, 1, 1, 1]) from checkpoint, the shape in current model is torch.Size([64, 128, 1, 1]).\n\tsize mismatch for _model.model.1.submodule.1.submodule.1.submodule.0.conv.0.conv.unit0.conv.weight: copying a param with shape torch.Size([128, 64, 3, 3, 3]) from checkpoint, the shape in current model is torch.Size([128, 64, 3, 3]).\n\tsize mismatch for _model.model.1.submodule.1.submodule.1.submodule.0.conv.0.conv.unit1.conv.weight: copying a param with shape torch.Size([128, 128, 3, 3, 3]) from checkpoint, the shape in current model is torch.Size([128, 128, 3, 3]).\n\tsize mismatch for _model.model.1.submodule.1.submodule.1.submodule.0.conv.0.residual.weight: copying a param with shape torch.Size([128, 64, 3, 3, 3]) from checkpoint, the shape in current model is torch.Size([128, 64, 3, 3]).\n\tsize mismatch for _model.model.1.submodule.1.submodule.1.submodule.0.conv.1.conv.unit0.conv.weight: copying a param with shape torch.Size([128, 128, 3, 3, 3]) from checkpoint, the shape in current model is torch.Size([128, 128, 3, 3]).\n\tsize mismatch for _model.model.1.submodule.1.submodule.1.submodule.0.conv.1.conv.unit1.conv.weight: copying a param with shape torch.Size([128, 128, 3, 3, 3]) from checkpoint, the shape in current model is torch.Size([128, 128, 3, 3]).\n\tsize mismatch for _model.model.1.submodule.1.submodule.1.submodule.1.attention.W_g.0.conv.unit0.conv.weight: copying a param with shape torch.Size([64, 128, 1, 1, 1]) from checkpoint, the shape in current model is torch.Size([64, 128, 1, 1]).\n\tsize mismatch for _model.model.1.submodule.1.submodule.1.submodule.1.attention.W_g.0.conv.unit1.conv.weight: copying a param with shape torch.Size([64, 64, 1, 1, 1]) from checkpoint, the shape in current model is torch.Size([64, 64, 1, 1]).\n\tsize mismatch for _model.model.1.submodule.1.submodule.1.submodule.1.attention.W_g.0.residual.weight: copying a param with shape torch.Size([64, 128, 1, 1, 1]) from checkpoint, the shape in current model is torch.Size([64, 128, 1, 1]).\n\tsize mismatch for _model.model.1.submodule.1.submodule.1.submodule.1.attention.W_x.0.conv.unit0.conv.weight: copying a param with shape torch.Size([64, 128, 1, 1, 1]) from checkpoint, the shape in current model is torch.Size([64, 128, 1, 1]).\n\tsize mismatch for _model.model.1.submodule.1.submodule.1.submodule.1.attention.W_x.0.conv.unit1.conv.weight: copying a param with shape torch.Size([64, 64, 1, 1, 1]) from checkpoint, the shape in current model is torch.Size([64, 64, 1, 1]).\n\tsize mismatch for _model.model.1.submodule.1.submodule.1.submodule.1.attention.W_x.0.residual.weight: copying a param with shape torch.Size([64, 128, 1, 1, 1]) from checkpoint, the shape in current model is torch.Size([64, 128, 1, 1]).\n\tsize mismatch for _model.model.1.submodule.1.submodule.1.submodule.1.attention.psi.0.conv.unit0.conv.weight: copying a param with shape torch.Size([1, 64, 1, 1, 1]) from checkpoint, the shape in current model is torch.Size([1, 64, 1, 1]).\n\tsize mismatch for _model.model.1.submodule.1.submodule.1.submodule.1.attention.psi.0.conv.unit1.conv.weight: copying a param with shape torch.Size([1, 1, 1, 1, 1]) from checkpoint, the shape in current model is torch.Size([1, 1, 1, 1]).\n\tsize mismatch for _model.model.1.submodule.1.submodule.1.submodule.1.attention.psi.0.residual.weight: copying a param with shape torch.Size([1, 64, 1, 1, 1]) from checkpoint, the shape in current model is torch.Size([1, 64, 1, 1]).\n\tsize mismatch for _model.model.1.submodule.1.submodule.1.submodule.1.upconv.conv.conv.weight: copying a param with shape torch.Size([128, 256, 3, 3, 3]) from checkpoint, the shape in current model is torch.Size([128, 256, 3, 3]).\n\tsize mismatch for _model.model.1.submodule.1.submodule.1.submodule.1.upconv.ru.conv.unit0.conv.weight: copying a param with shape torch.Size([128, 128, 3, 3, 3]) from checkpoint, the shape in current model is torch.Size([128, 128, 3, 3]).\n\tsize mismatch for _model.model.1.submodule.1.submodule.1.submodule.1.upconv.up.1.conv.weight: copying a param with shape torch.Size([128, 256, 3, 3, 3]) from checkpoint, the shape in current model is torch.Size([128, 256, 3, 3]).\n\tsize mismatch for _model.model.1.submodule.1.submodule.1.submodule.1.upconv.up.2.conv.unit0.conv.weight: copying a param with shape torch.Size([128, 128, 3, 3, 3]) from checkpoint, the shape in current model is torch.Size([128, 128, 3, 3]).\n\tsize mismatch for _model.model.1.submodule.1.submodule.1.submodule.1.merge.conv.unit0.conv.weight: copying a param with shape torch.Size([128, 256, 3, 3, 3]) from checkpoint, the shape in current model is torch.Size([128, 256, 3, 3]).\n\tsize mismatch for _model.model.1.submodule.1.submodule.1.submodule.1.merge.conv.unit1.conv.weight: copying a param with shape torch.Size([128, 128, 3, 3, 3]) from checkpoint, the shape in current model is torch.Size([128, 128, 3, 3]).\n\tsize mismatch for _model.model.1.submodule.1.submodule.1.submodule.1.merge.residual.weight: copying a param with shape torch.Size([128, 256, 1, 1, 1]) from checkpoint, the shape in current model is torch.Size([128, 256, 1, 1]).\n\tsize mismatch for _model.model.1.submodule.1.submodule.1.submodule.1.submodule.conv.0.conv.unit0.conv.weight: copying a param with shape torch.Size([256, 128, 3, 3, 3]) from checkpoint, the shape in current model is torch.Size([256, 128, 3, 3]).\n\tsize mismatch for _model.model.1.submodule.1.submodule.1.submodule.1.submodule.conv.0.conv.unit1.conv.weight: copying a param with shape torch.Size([256, 256, 3, 3, 3]) from checkpoint, the shape in current model is torch.Size([256, 256, 3, 3]).\n\tsize mismatch for _model.model.1.submodule.1.submodule.1.submodule.1.submodule.conv.0.residual.weight: copying a param with shape torch.Size([256, 128, 3, 3, 3]) from checkpoint, the shape in current model is torch.Size([256, 128, 3, 3]).\n\tsize mismatch for _model.model.1.submodule.1.submodule.1.submodule.1.submodule.conv.1.conv.unit0.conv.weight: copying a param with shape torch.Size([256, 256, 3, 3, 3]) from checkpoint, the shape in current model is torch.Size([256, 256, 3, 3]).\n\tsize mismatch for _model.model.1.submodule.1.submodule.1.submodule.1.submodule.conv.1.conv.unit1.conv.weight: copying a param with shape torch.Size([256, 256, 3, 3, 3]) from checkpoint, the shape in current model is torch.Size([256, 256, 3, 3]).\n\tsize mismatch for _model.model.2.conv.unit0.conv.weight: copying a param with shape torch.Size([4, 16, 1, 1, 1]) from checkpoint, the shape in current model is torch.Size([4, 16, 1, 1]).\n\tsize mismatch for _model.model.2.conv.unit1.conv.weight: copying a param with shape torch.Size([4, 4, 1, 1, 1]) from checkpoint, the shape in current model is torch.Size([4, 4, 1, 1]).\n\tsize mismatch for _model.model.2.residual.weight: copying a param with shape torch.Size([4, 16, 1, 1, 1]) from checkpoint, the shape in current model is torch.Size([4, 16, 1, 1]).",
     "output_type": "error",
     "traceback": [
      "\u001b[0;31m---------------------------------------------------------------------------\u001b[0m",
      "\u001b[0;31mRuntimeError\u001b[0m                              Traceback (most recent call last)",
      "Cell \u001b[0;32mIn[3], line 1\u001b[0m\n\u001b[0;32m----> 1\u001b[0m inferer \u001b[38;5;241m=\u001b[39m \u001b[43mInference\u001b[49m\u001b[43m(\u001b[49m\u001b[43moutput_dir\u001b[49m\u001b[38;5;241;43m=\u001b[39;49m\u001b[43moutput_dir\u001b[49m\u001b[43m,\u001b[49m\n\u001b[1;32m      2\u001b[0m \u001b[43m                    \u001b[49m\u001b[43mmodel_ckpt\u001b[49m\u001b[38;5;241;43m=\u001b[39;49m\u001b[43mmodel_ckpt\u001b[49m\u001b[43m,\u001b[49m\n\u001b[1;32m      3\u001b[0m \u001b[43m                    \u001b[49m\u001b[43monly_plaques\u001b[49m\u001b[38;5;241;43m=\u001b[39;49m\u001b[43monly_plaques\u001b[49m\u001b[43m,\u001b[49m\n\u001b[1;32m      4\u001b[0m \u001b[43m                    \u001b[49m\u001b[43msoft_inference\u001b[49m\u001b[38;5;241;43m=\u001b[39;49m\u001b[43msoft_inference\u001b[49m\u001b[43m)\u001b[49m\n",
      "File \u001b[0;32m~/Developer/Hemolens/plaques/calcium_scoring_cardiac_ct/scripts/inference.py:48\u001b[0m, in \u001b[0;36mInference.__init__\u001b[0;34m(self, output_dir, model, model_ckpt, type_of_input_data, only_plaques, soft_inference)\u001b[0m\n\u001b[1;32m     46\u001b[0m \u001b[38;5;28mself\u001b[39m\u001b[38;5;241m.\u001b[39m_output_ext \u001b[38;5;241m=\u001b[39m \u001b[38;5;124m\"\u001b[39m\u001b[38;5;124m.nii.gz\u001b[39m\u001b[38;5;124m\"\u001b[39m\n\u001b[1;32m     47\u001b[0m \u001b[38;5;28mself\u001b[39m\u001b[38;5;241m.\u001b[39mtransformations \u001b[38;5;241m=\u001b[39m \u001b[38;5;28mself\u001b[39m\u001b[38;5;241m.\u001b[39m_create_transformations()\n\u001b[0;32m---> 48\u001b[0m \u001b[38;5;28mself\u001b[39m\u001b[38;5;241m.\u001b[39mmodel \u001b[38;5;241m=\u001b[39m \u001b[38;5;28;43mself\u001b[39;49m\u001b[38;5;241;43m.\u001b[39;49m\u001b[43m_load_model\u001b[49m\u001b[43m(\u001b[49m\u001b[43m)\u001b[49m\n",
      "File \u001b[0;32m~/Developer/Hemolens/plaques/calcium_scoring_cardiac_ct/scripts/inference.py:84\u001b[0m, in \u001b[0;36mInference._load_model\u001b[0;34m(self)\u001b[0m\n\u001b[1;32m     82\u001b[0m model \u001b[38;5;241m=\u001b[39m model_class()\n\u001b[1;32m     83\u001b[0m checkpoint \u001b[38;5;241m=\u001b[39m torch\u001b[38;5;241m.\u001b[39mload(\u001b[38;5;28mself\u001b[39m\u001b[38;5;241m.\u001b[39m_model_ckpt)\n\u001b[0;32m---> 84\u001b[0m \u001b[43mmodel\u001b[49m\u001b[38;5;241;43m.\u001b[39;49m\u001b[43mload_state_dict\u001b[49m\u001b[43m(\u001b[49m\u001b[43mcheckpoint\u001b[49m\u001b[43m[\u001b[49m\u001b[38;5;124;43m'\u001b[39;49m\u001b[38;5;124;43mstate_dict\u001b[39;49m\u001b[38;5;124;43m'\u001b[39;49m\u001b[43m]\u001b[49m\u001b[43m)\u001b[49m\n\u001b[1;32m     85\u001b[0m model\u001b[38;5;241m.\u001b[39mcuda()\n\u001b[1;32m     86\u001b[0m model\u001b[38;5;241m.\u001b[39meval()\n",
      "File \u001b[0;32m~/miniconda3/envs/agatston/lib/python3.10/site-packages/torch/nn/modules/module.py:2189\u001b[0m, in \u001b[0;36mModule.load_state_dict\u001b[0;34m(self, state_dict, strict, assign)\u001b[0m\n\u001b[1;32m   2184\u001b[0m         error_msgs\u001b[38;5;241m.\u001b[39minsert(\n\u001b[1;32m   2185\u001b[0m             \u001b[38;5;241m0\u001b[39m, \u001b[38;5;124m'\u001b[39m\u001b[38;5;124mMissing key(s) in state_dict: \u001b[39m\u001b[38;5;132;01m{}\u001b[39;00m\u001b[38;5;124m. \u001b[39m\u001b[38;5;124m'\u001b[39m\u001b[38;5;241m.\u001b[39mformat(\n\u001b[1;32m   2186\u001b[0m                 \u001b[38;5;124m'\u001b[39m\u001b[38;5;124m, \u001b[39m\u001b[38;5;124m'\u001b[39m\u001b[38;5;241m.\u001b[39mjoin(\u001b[38;5;124mf\u001b[39m\u001b[38;5;124m'\u001b[39m\u001b[38;5;124m\"\u001b[39m\u001b[38;5;132;01m{\u001b[39;00mk\u001b[38;5;132;01m}\u001b[39;00m\u001b[38;5;124m\"\u001b[39m\u001b[38;5;124m'\u001b[39m \u001b[38;5;28;01mfor\u001b[39;00m k \u001b[38;5;129;01min\u001b[39;00m missing_keys)))\n\u001b[1;32m   2188\u001b[0m \u001b[38;5;28;01mif\u001b[39;00m \u001b[38;5;28mlen\u001b[39m(error_msgs) \u001b[38;5;241m>\u001b[39m \u001b[38;5;241m0\u001b[39m:\n\u001b[0;32m-> 2189\u001b[0m     \u001b[38;5;28;01mraise\u001b[39;00m \u001b[38;5;167;01mRuntimeError\u001b[39;00m(\u001b[38;5;124m'\u001b[39m\u001b[38;5;124mError(s) in loading state_dict for \u001b[39m\u001b[38;5;132;01m{}\u001b[39;00m\u001b[38;5;124m:\u001b[39m\u001b[38;5;130;01m\\n\u001b[39;00m\u001b[38;5;130;01m\\t\u001b[39;00m\u001b[38;5;132;01m{}\u001b[39;00m\u001b[38;5;124m'\u001b[39m\u001b[38;5;241m.\u001b[39mformat(\n\u001b[1;32m   2190\u001b[0m                        \u001b[38;5;28mself\u001b[39m\u001b[38;5;241m.\u001b[39m\u001b[38;5;18m__class__\u001b[39m\u001b[38;5;241m.\u001b[39m\u001b[38;5;18m__name__\u001b[39m, \u001b[38;5;124m\"\u001b[39m\u001b[38;5;130;01m\\n\u001b[39;00m\u001b[38;5;130;01m\\t\u001b[39;00m\u001b[38;5;124m\"\u001b[39m\u001b[38;5;241m.\u001b[39mjoin(error_msgs)))\n\u001b[1;32m   2191\u001b[0m \u001b[38;5;28;01mreturn\u001b[39;00m _IncompatibleKeys(missing_keys, unexpected_keys)\n",
      "\u001b[0;31mRuntimeError\u001b[0m: Error(s) in loading state_dict for RaUNet2D:\n\tsize mismatch for _model.model.0.conv.0.conv.unit0.conv.weight: copying a param with shape torch.Size([16, 1, 3, 3, 3]) from checkpoint, the shape in current model is torch.Size([16, 1, 3, 3]).\n\tsize mismatch for _model.model.0.conv.0.conv.unit1.conv.weight: copying a param with shape torch.Size([16, 16, 3, 3, 3]) from checkpoint, the shape in current model is torch.Size([16, 16, 3, 3]).\n\tsize mismatch for _model.model.0.conv.0.residual.weight: copying a param with shape torch.Size([16, 1, 1, 1, 1]) from checkpoint, the shape in current model is torch.Size([16, 1, 1, 1]).\n\tsize mismatch for _model.model.0.conv.1.conv.unit0.conv.weight: copying a param with shape torch.Size([16, 16, 3, 3, 3]) from checkpoint, the shape in current model is torch.Size([16, 16, 3, 3]).\n\tsize mismatch for _model.model.0.conv.1.conv.unit1.conv.weight: copying a param with shape torch.Size([16, 16, 3, 3, 3]) from checkpoint, the shape in current model is torch.Size([16, 16, 3, 3]).\n\tsize mismatch for _model.model.1.attention.W_g.0.conv.unit0.conv.weight: copying a param with shape torch.Size([8, 16, 1, 1, 1]) from checkpoint, the shape in current model is torch.Size([8, 16, 1, 1]).\n\tsize mismatch for _model.model.1.attention.W_g.0.conv.unit1.conv.weight: copying a param with shape torch.Size([8, 8, 1, 1, 1]) from checkpoint, the shape in current model is torch.Size([8, 8, 1, 1]).\n\tsize mismatch for _model.model.1.attention.W_g.0.residual.weight: copying a param with shape torch.Size([8, 16, 1, 1, 1]) from checkpoint, the shape in current model is torch.Size([8, 16, 1, 1]).\n\tsize mismatch for _model.model.1.attention.W_x.0.conv.unit0.conv.weight: copying a param with shape torch.Size([8, 16, 1, 1, 1]) from checkpoint, the shape in current model is torch.Size([8, 16, 1, 1]).\n\tsize mismatch for _model.model.1.attention.W_x.0.conv.unit1.conv.weight: copying a param with shape torch.Size([8, 8, 1, 1, 1]) from checkpoint, the shape in current model is torch.Size([8, 8, 1, 1]).\n\tsize mismatch for _model.model.1.attention.W_x.0.residual.weight: copying a param with shape torch.Size([8, 16, 1, 1, 1]) from checkpoint, the shape in current model is torch.Size([8, 16, 1, 1]).\n\tsize mismatch for _model.model.1.attention.psi.0.conv.unit0.conv.weight: copying a param with shape torch.Size([1, 8, 1, 1, 1]) from checkpoint, the shape in current model is torch.Size([1, 8, 1, 1]).\n\tsize mismatch for _model.model.1.attention.psi.0.conv.unit1.conv.weight: copying a param with shape torch.Size([1, 1, 1, 1, 1]) from checkpoint, the shape in current model is torch.Size([1, 1, 1, 1]).\n\tsize mismatch for _model.model.1.attention.psi.0.residual.weight: copying a param with shape torch.Size([1, 8, 1, 1, 1]) from checkpoint, the shape in current model is torch.Size([1, 8, 1, 1]).\n\tsize mismatch for _model.model.1.upconv.conv.conv.weight: copying a param with shape torch.Size([16, 32, 3, 3, 3]) from checkpoint, the shape in current model is torch.Size([16, 32, 3, 3]).\n\tsize mismatch for _model.model.1.upconv.ru.conv.unit0.conv.weight: copying a param with shape torch.Size([16, 16, 3, 3, 3]) from checkpoint, the shape in current model is torch.Size([16, 16, 3, 3]).\n\tsize mismatch for _model.model.1.upconv.up.1.conv.weight: copying a param with shape torch.Size([16, 32, 3, 3, 3]) from checkpoint, the shape in current model is torch.Size([16, 32, 3, 3]).\n\tsize mismatch for _model.model.1.upconv.up.2.conv.unit0.conv.weight: copying a param with shape torch.Size([16, 16, 3, 3, 3]) from checkpoint, the shape in current model is torch.Size([16, 16, 3, 3]).\n\tsize mismatch for _model.model.1.merge.conv.unit0.conv.weight: copying a param with shape torch.Size([16, 32, 3, 3, 3]) from checkpoint, the shape in current model is torch.Size([16, 32, 3, 3]).\n\tsize mismatch for _model.model.1.merge.conv.unit1.conv.weight: copying a param with shape torch.Size([16, 16, 3, 3, 3]) from checkpoint, the shape in current model is torch.Size([16, 16, 3, 3]).\n\tsize mismatch for _model.model.1.merge.residual.weight: copying a param with shape torch.Size([16, 32, 1, 1, 1]) from checkpoint, the shape in current model is torch.Size([16, 32, 1, 1]).\n\tsize mismatch for _model.model.1.submodule.0.conv.0.conv.unit0.conv.weight: copying a param with shape torch.Size([32, 16, 3, 3, 3]) from checkpoint, the shape in current model is torch.Size([32, 16, 3, 3]).\n\tsize mismatch for _model.model.1.submodule.0.conv.0.conv.unit1.conv.weight: copying a param with shape torch.Size([32, 32, 3, 3, 3]) from checkpoint, the shape in current model is torch.Size([32, 32, 3, 3]).\n\tsize mismatch for _model.model.1.submodule.0.conv.0.residual.weight: copying a param with shape torch.Size([32, 16, 3, 3, 3]) from checkpoint, the shape in current model is torch.Size([32, 16, 3, 3]).\n\tsize mismatch for _model.model.1.submodule.0.conv.1.conv.unit0.conv.weight: copying a param with shape torch.Size([32, 32, 3, 3, 3]) from checkpoint, the shape in current model is torch.Size([32, 32, 3, 3]).\n\tsize mismatch for _model.model.1.submodule.0.conv.1.conv.unit1.conv.weight: copying a param with shape torch.Size([32, 32, 3, 3, 3]) from checkpoint, the shape in current model is torch.Size([32, 32, 3, 3]).\n\tsize mismatch for _model.model.1.submodule.1.attention.W_g.0.conv.unit0.conv.weight: copying a param with shape torch.Size([16, 32, 1, 1, 1]) from checkpoint, the shape in current model is torch.Size([16, 32, 1, 1]).\n\tsize mismatch for _model.model.1.submodule.1.attention.W_g.0.conv.unit1.conv.weight: copying a param with shape torch.Size([16, 16, 1, 1, 1]) from checkpoint, the shape in current model is torch.Size([16, 16, 1, 1]).\n\tsize mismatch for _model.model.1.submodule.1.attention.W_g.0.residual.weight: copying a param with shape torch.Size([16, 32, 1, 1, 1]) from checkpoint, the shape in current model is torch.Size([16, 32, 1, 1]).\n\tsize mismatch for _model.model.1.submodule.1.attention.W_x.0.conv.unit0.conv.weight: copying a param with shape torch.Size([16, 32, 1, 1, 1]) from checkpoint, the shape in current model is torch.Size([16, 32, 1, 1]).\n\tsize mismatch for _model.model.1.submodule.1.attention.W_x.0.conv.unit1.conv.weight: copying a param with shape torch.Size([16, 16, 1, 1, 1]) from checkpoint, the shape in current model is torch.Size([16, 16, 1, 1]).\n\tsize mismatch for _model.model.1.submodule.1.attention.W_x.0.residual.weight: copying a param with shape torch.Size([16, 32, 1, 1, 1]) from checkpoint, the shape in current model is torch.Size([16, 32, 1, 1]).\n\tsize mismatch for _model.model.1.submodule.1.attention.psi.0.conv.unit0.conv.weight: copying a param with shape torch.Size([1, 16, 1, 1, 1]) from checkpoint, the shape in current model is torch.Size([1, 16, 1, 1]).\n\tsize mismatch for _model.model.1.submodule.1.attention.psi.0.conv.unit1.conv.weight: copying a param with shape torch.Size([1, 1, 1, 1, 1]) from checkpoint, the shape in current model is torch.Size([1, 1, 1, 1]).\n\tsize mismatch for _model.model.1.submodule.1.attention.psi.0.residual.weight: copying a param with shape torch.Size([1, 16, 1, 1, 1]) from checkpoint, the shape in current model is torch.Size([1, 16, 1, 1]).\n\tsize mismatch for _model.model.1.submodule.1.upconv.conv.conv.weight: copying a param with shape torch.Size([32, 64, 3, 3, 3]) from checkpoint, the shape in current model is torch.Size([32, 64, 3, 3]).\n\tsize mismatch for _model.model.1.submodule.1.upconv.ru.conv.unit0.conv.weight: copying a param with shape torch.Size([32, 32, 3, 3, 3]) from checkpoint, the shape in current model is torch.Size([32, 32, 3, 3]).\n\tsize mismatch for _model.model.1.submodule.1.upconv.up.1.conv.weight: copying a param with shape torch.Size([32, 64, 3, 3, 3]) from checkpoint, the shape in current model is torch.Size([32, 64, 3, 3]).\n\tsize mismatch for _model.model.1.submodule.1.upconv.up.2.conv.unit0.conv.weight: copying a param with shape torch.Size([32, 32, 3, 3, 3]) from checkpoint, the shape in current model is torch.Size([32, 32, 3, 3]).\n\tsize mismatch for _model.model.1.submodule.1.merge.conv.unit0.conv.weight: copying a param with shape torch.Size([32, 64, 3, 3, 3]) from checkpoint, the shape in current model is torch.Size([32, 64, 3, 3]).\n\tsize mismatch for _model.model.1.submodule.1.merge.conv.unit1.conv.weight: copying a param with shape torch.Size([32, 32, 3, 3, 3]) from checkpoint, the shape in current model is torch.Size([32, 32, 3, 3]).\n\tsize mismatch for _model.model.1.submodule.1.merge.residual.weight: copying a param with shape torch.Size([32, 64, 1, 1, 1]) from checkpoint, the shape in current model is torch.Size([32, 64, 1, 1]).\n\tsize mismatch for _model.model.1.submodule.1.submodule.0.conv.0.conv.unit0.conv.weight: copying a param with shape torch.Size([64, 32, 3, 3, 3]) from checkpoint, the shape in current model is torch.Size([64, 32, 3, 3]).\n\tsize mismatch for _model.model.1.submodule.1.submodule.0.conv.0.conv.unit1.conv.weight: copying a param with shape torch.Size([64, 64, 3, 3, 3]) from checkpoint, the shape in current model is torch.Size([64, 64, 3, 3]).\n\tsize mismatch for _model.model.1.submodule.1.submodule.0.conv.0.residual.weight: copying a param with shape torch.Size([64, 32, 3, 3, 3]) from checkpoint, the shape in current model is torch.Size([64, 32, 3, 3]).\n\tsize mismatch for _model.model.1.submodule.1.submodule.0.conv.1.conv.unit0.conv.weight: copying a param with shape torch.Size([64, 64, 3, 3, 3]) from checkpoint, the shape in current model is torch.Size([64, 64, 3, 3]).\n\tsize mismatch for _model.model.1.submodule.1.submodule.0.conv.1.conv.unit1.conv.weight: copying a param with shape torch.Size([64, 64, 3, 3, 3]) from checkpoint, the shape in current model is torch.Size([64, 64, 3, 3]).\n\tsize mismatch for _model.model.1.submodule.1.submodule.1.attention.W_g.0.conv.unit0.conv.weight: copying a param with shape torch.Size([32, 64, 1, 1, 1]) from checkpoint, the shape in current model is torch.Size([32, 64, 1, 1]).\n\tsize mismatch for _model.model.1.submodule.1.submodule.1.attention.W_g.0.conv.unit1.conv.weight: copying a param with shape torch.Size([32, 32, 1, 1, 1]) from checkpoint, the shape in current model is torch.Size([32, 32, 1, 1]).\n\tsize mismatch for _model.model.1.submodule.1.submodule.1.attention.W_g.0.residual.weight: copying a param with shape torch.Size([32, 64, 1, 1, 1]) from checkpoint, the shape in current model is torch.Size([32, 64, 1, 1]).\n\tsize mismatch for _model.model.1.submodule.1.submodule.1.attention.W_x.0.conv.unit0.conv.weight: copying a param with shape torch.Size([32, 64, 1, 1, 1]) from checkpoint, the shape in current model is torch.Size([32, 64, 1, 1]).\n\tsize mismatch for _model.model.1.submodule.1.submodule.1.attention.W_x.0.conv.unit1.conv.weight: copying a param with shape torch.Size([32, 32, 1, 1, 1]) from checkpoint, the shape in current model is torch.Size([32, 32, 1, 1]).\n\tsize mismatch for _model.model.1.submodule.1.submodule.1.attention.W_x.0.residual.weight: copying a param with shape torch.Size([32, 64, 1, 1, 1]) from checkpoint, the shape in current model is torch.Size([32, 64, 1, 1]).\n\tsize mismatch for _model.model.1.submodule.1.submodule.1.attention.psi.0.conv.unit0.conv.weight: copying a param with shape torch.Size([1, 32, 1, 1, 1]) from checkpoint, the shape in current model is torch.Size([1, 32, 1, 1]).\n\tsize mismatch for _model.model.1.submodule.1.submodule.1.attention.psi.0.conv.unit1.conv.weight: copying a param with shape torch.Size([1, 1, 1, 1, 1]) from checkpoint, the shape in current model is torch.Size([1, 1, 1, 1]).\n\tsize mismatch for _model.model.1.submodule.1.submodule.1.attention.psi.0.residual.weight: copying a param with shape torch.Size([1, 32, 1, 1, 1]) from checkpoint, the shape in current model is torch.Size([1, 32, 1, 1]).\n\tsize mismatch for _model.model.1.submodule.1.submodule.1.upconv.conv.conv.weight: copying a param with shape torch.Size([64, 128, 3, 3, 3]) from checkpoint, the shape in current model is torch.Size([64, 128, 3, 3]).\n\tsize mismatch for _model.model.1.submodule.1.submodule.1.upconv.ru.conv.unit0.conv.weight: copying a param with shape torch.Size([64, 64, 3, 3, 3]) from checkpoint, the shape in current model is torch.Size([64, 64, 3, 3]).\n\tsize mismatch for _model.model.1.submodule.1.submodule.1.upconv.up.1.conv.weight: copying a param with shape torch.Size([64, 128, 3, 3, 3]) from checkpoint, the shape in current model is torch.Size([64, 128, 3, 3]).\n\tsize mismatch for _model.model.1.submodule.1.submodule.1.upconv.up.2.conv.unit0.conv.weight: copying a param with shape torch.Size([64, 64, 3, 3, 3]) from checkpoint, the shape in current model is torch.Size([64, 64, 3, 3]).\n\tsize mismatch for _model.model.1.submodule.1.submodule.1.merge.conv.unit0.conv.weight: copying a param with shape torch.Size([64, 128, 3, 3, 3]) from checkpoint, the shape in current model is torch.Size([64, 128, 3, 3]).\n\tsize mismatch for _model.model.1.submodule.1.submodule.1.merge.conv.unit1.conv.weight: copying a param with shape torch.Size([64, 64, 3, 3, 3]) from checkpoint, the shape in current model is torch.Size([64, 64, 3, 3]).\n\tsize mismatch for _model.model.1.submodule.1.submodule.1.merge.residual.weight: copying a param with shape torch.Size([64, 128, 1, 1, 1]) from checkpoint, the shape in current model is torch.Size([64, 128, 1, 1]).\n\tsize mismatch for _model.model.1.submodule.1.submodule.1.submodule.0.conv.0.conv.unit0.conv.weight: copying a param with shape torch.Size([128, 64, 3, 3, 3]) from checkpoint, the shape in current model is torch.Size([128, 64, 3, 3]).\n\tsize mismatch for _model.model.1.submodule.1.submodule.1.submodule.0.conv.0.conv.unit1.conv.weight: copying a param with shape torch.Size([128, 128, 3, 3, 3]) from checkpoint, the shape in current model is torch.Size([128, 128, 3, 3]).\n\tsize mismatch for _model.model.1.submodule.1.submodule.1.submodule.0.conv.0.residual.weight: copying a param with shape torch.Size([128, 64, 3, 3, 3]) from checkpoint, the shape in current model is torch.Size([128, 64, 3, 3]).\n\tsize mismatch for _model.model.1.submodule.1.submodule.1.submodule.0.conv.1.conv.unit0.conv.weight: copying a param with shape torch.Size([128, 128, 3, 3, 3]) from checkpoint, the shape in current model is torch.Size([128, 128, 3, 3]).\n\tsize mismatch for _model.model.1.submodule.1.submodule.1.submodule.0.conv.1.conv.unit1.conv.weight: copying a param with shape torch.Size([128, 128, 3, 3, 3]) from checkpoint, the shape in current model is torch.Size([128, 128, 3, 3]).\n\tsize mismatch for _model.model.1.submodule.1.submodule.1.submodule.1.attention.W_g.0.conv.unit0.conv.weight: copying a param with shape torch.Size([64, 128, 1, 1, 1]) from checkpoint, the shape in current model is torch.Size([64, 128, 1, 1]).\n\tsize mismatch for _model.model.1.submodule.1.submodule.1.submodule.1.attention.W_g.0.conv.unit1.conv.weight: copying a param with shape torch.Size([64, 64, 1, 1, 1]) from checkpoint, the shape in current model is torch.Size([64, 64, 1, 1]).\n\tsize mismatch for _model.model.1.submodule.1.submodule.1.submodule.1.attention.W_g.0.residual.weight: copying a param with shape torch.Size([64, 128, 1, 1, 1]) from checkpoint, the shape in current model is torch.Size([64, 128, 1, 1]).\n\tsize mismatch for _model.model.1.submodule.1.submodule.1.submodule.1.attention.W_x.0.conv.unit0.conv.weight: copying a param with shape torch.Size([64, 128, 1, 1, 1]) from checkpoint, the shape in current model is torch.Size([64, 128, 1, 1]).\n\tsize mismatch for _model.model.1.submodule.1.submodule.1.submodule.1.attention.W_x.0.conv.unit1.conv.weight: copying a param with shape torch.Size([64, 64, 1, 1, 1]) from checkpoint, the shape in current model is torch.Size([64, 64, 1, 1]).\n\tsize mismatch for _model.model.1.submodule.1.submodule.1.submodule.1.attention.W_x.0.residual.weight: copying a param with shape torch.Size([64, 128, 1, 1, 1]) from checkpoint, the shape in current model is torch.Size([64, 128, 1, 1]).\n\tsize mismatch for _model.model.1.submodule.1.submodule.1.submodule.1.attention.psi.0.conv.unit0.conv.weight: copying a param with shape torch.Size([1, 64, 1, 1, 1]) from checkpoint, the shape in current model is torch.Size([1, 64, 1, 1]).\n\tsize mismatch for _model.model.1.submodule.1.submodule.1.submodule.1.attention.psi.0.conv.unit1.conv.weight: copying a param with shape torch.Size([1, 1, 1, 1, 1]) from checkpoint, the shape in current model is torch.Size([1, 1, 1, 1]).\n\tsize mismatch for _model.model.1.submodule.1.submodule.1.submodule.1.attention.psi.0.residual.weight: copying a param with shape torch.Size([1, 64, 1, 1, 1]) from checkpoint, the shape in current model is torch.Size([1, 64, 1, 1]).\n\tsize mismatch for _model.model.1.submodule.1.submodule.1.submodule.1.upconv.conv.conv.weight: copying a param with shape torch.Size([128, 256, 3, 3, 3]) from checkpoint, the shape in current model is torch.Size([128, 256, 3, 3]).\n\tsize mismatch for _model.model.1.submodule.1.submodule.1.submodule.1.upconv.ru.conv.unit0.conv.weight: copying a param with shape torch.Size([128, 128, 3, 3, 3]) from checkpoint, the shape in current model is torch.Size([128, 128, 3, 3]).\n\tsize mismatch for _model.model.1.submodule.1.submodule.1.submodule.1.upconv.up.1.conv.weight: copying a param with shape torch.Size([128, 256, 3, 3, 3]) from checkpoint, the shape in current model is torch.Size([128, 256, 3, 3]).\n\tsize mismatch for _model.model.1.submodule.1.submodule.1.submodule.1.upconv.up.2.conv.unit0.conv.weight: copying a param with shape torch.Size([128, 128, 3, 3, 3]) from checkpoint, the shape in current model is torch.Size([128, 128, 3, 3]).\n\tsize mismatch for _model.model.1.submodule.1.submodule.1.submodule.1.merge.conv.unit0.conv.weight: copying a param with shape torch.Size([128, 256, 3, 3, 3]) from checkpoint, the shape in current model is torch.Size([128, 256, 3, 3]).\n\tsize mismatch for _model.model.1.submodule.1.submodule.1.submodule.1.merge.conv.unit1.conv.weight: copying a param with shape torch.Size([128, 128, 3, 3, 3]) from checkpoint, the shape in current model is torch.Size([128, 128, 3, 3]).\n\tsize mismatch for _model.model.1.submodule.1.submodule.1.submodule.1.merge.residual.weight: copying a param with shape torch.Size([128, 256, 1, 1, 1]) from checkpoint, the shape in current model is torch.Size([128, 256, 1, 1]).\n\tsize mismatch for _model.model.1.submodule.1.submodule.1.submodule.1.submodule.conv.0.conv.unit0.conv.weight: copying a param with shape torch.Size([256, 128, 3, 3, 3]) from checkpoint, the shape in current model is torch.Size([256, 128, 3, 3]).\n\tsize mismatch for _model.model.1.submodule.1.submodule.1.submodule.1.submodule.conv.0.conv.unit1.conv.weight: copying a param with shape torch.Size([256, 256, 3, 3, 3]) from checkpoint, the shape in current model is torch.Size([256, 256, 3, 3]).\n\tsize mismatch for _model.model.1.submodule.1.submodule.1.submodule.1.submodule.conv.0.residual.weight: copying a param with shape torch.Size([256, 128, 3, 3, 3]) from checkpoint, the shape in current model is torch.Size([256, 128, 3, 3]).\n\tsize mismatch for _model.model.1.submodule.1.submodule.1.submodule.1.submodule.conv.1.conv.unit0.conv.weight: copying a param with shape torch.Size([256, 256, 3, 3, 3]) from checkpoint, the shape in current model is torch.Size([256, 256, 3, 3]).\n\tsize mismatch for _model.model.1.submodule.1.submodule.1.submodule.1.submodule.conv.1.conv.unit1.conv.weight: copying a param with shape torch.Size([256, 256, 3, 3, 3]) from checkpoint, the shape in current model is torch.Size([256, 256, 3, 3]).\n\tsize mismatch for _model.model.2.conv.unit0.conv.weight: copying a param with shape torch.Size([4, 16, 1, 1, 1]) from checkpoint, the shape in current model is torch.Size([4, 16, 1, 1]).\n\tsize mismatch for _model.model.2.conv.unit1.conv.weight: copying a param with shape torch.Size([4, 4, 1, 1, 1]) from checkpoint, the shape in current model is torch.Size([4, 4, 1, 1]).\n\tsize mismatch for _model.model.2.residual.weight: copying a param with shape torch.Size([4, 16, 1, 1, 1]) from checkpoint, the shape in current model is torch.Size([4, 16, 1, 1])."
     ]
    }
   ],
   "source": [
    "inferer = Inference(output_dir=output_dir,\n",
    "                    model='raunet',\n",
    "                    type_of_input_data=type_of_input_data,\n",
    "                    model_ckpt=model_ckpt,\n",
    "                    only_plaques=only_plaques,\n",
    "                    soft_inference=soft_inference)"
   ]
  },
  {
   "cell_type": "markdown",
   "metadata": {},
   "source": [
    "### Run inference"
   ]
  },
  {
   "cell_type": "code",
   "execution_count": 4,
   "metadata": {},
   "outputs": [
    {
     "name": "stderr",
     "output_type": "stream",
     "text": [
      "0it [00:00, ?it/s]"
     ]
    },
    {
     "name": "stdout",
     "output_type": "stream",
     "text": [
      "2024-06-13 03:57:23,926 INFO image_writer.py:197 - writing: ../.data/CaScore/model_output/TRV3P3/TRV3P3.nii.gz\n"
     ]
    },
    {
     "name": "stderr",
     "output_type": "stream",
     "text": [
      "100%|██████████| 41/41 [00:00<00:00, 56.96it/s]\n"
     ]
    },
    {
     "name": "stdout",
     "output_type": "stream",
     "text": [
      "2024-06-13 03:57:25,496 INFO image_writer.py:197 - writing: ../.data/CaScore/model_output/TRV3P3/TRV3P3_inference.nii.gz\n"
     ]
    },
    {
     "name": "stderr",
     "output_type": "stream",
     "text": [
      "1it [00:01,  1.82s/it]"
     ]
    },
    {
     "name": "stdout",
     "output_type": "stream",
     "text": [
      "2024-06-13 03:57:25,753 INFO image_writer.py:197 - writing: ../.data/CaScore/model_output/VAV2P1/VAV2P1.nii.gz\n"
     ]
    },
    {
     "name": "stderr",
     "output_type": "stream",
     "text": [
      "100%|██████████| 47/47 [00:00<00:00, 81.76it/s]"
     ]
    },
    {
     "name": "stdout",
     "output_type": "stream",
     "text": [
      "2024-06-13 03:57:26,970 INFO image_writer.py:197 - writing: ../.data/CaScore/model_output/VAV2P1/VAV2P1_inference.nii.gz\n"
     ]
    },
    {
     "name": "stderr",
     "output_type": "stream",
     "text": [
      "\n",
      "2it [00:03,  1.62s/it]"
     ]
    },
    {
     "name": "stdout",
     "output_type": "stream",
     "text": [
      "2024-06-13 03:57:27,202 INFO image_writer.py:197 - writing: ../.data/CaScore/model_output/VAV3P1/VAV3P1.nii.gz\n"
     ]
    },
    {
     "name": "stderr",
     "output_type": "stream",
     "text": [
      "100%|██████████| 41/41 [00:00<00:00, 82.32it/s]\n"
     ]
    },
    {
     "name": "stdout",
     "output_type": "stream",
     "text": [
      "2024-06-13 03:57:28,262 INFO image_writer.py:197 - writing: ../.data/CaScore/model_output/VAV3P1/VAV3P1_inference.nii.gz\n"
     ]
    },
    {
     "name": "stderr",
     "output_type": "stream",
     "text": [
      "3it [00:04,  1.46s/it]"
     ]
    },
    {
     "name": "stdout",
     "output_type": "stream",
     "text": [
      "2024-06-13 03:57:28,508 INFO image_writer.py:197 - writing: ../.data/CaScore/model_output/TEV4P1/TEV4P1.nii.gz\n"
     ]
    },
    {
     "name": "stderr",
     "output_type": "stream",
     "text": [
      "100%|██████████| 42/42 [00:00<00:00, 82.24it/s]\n"
     ]
    },
    {
     "name": "stdout",
     "output_type": "stream",
     "text": [
      "2024-06-13 03:57:29,701 INFO image_writer.py:197 - writing: ../.data/CaScore/model_output/TEV4P1/TEV4P1_inference.nii.gz\n"
     ]
    },
    {
     "name": "stderr",
     "output_type": "stream",
     "text": [
      "4it [00:06,  1.45s/it]"
     ]
    },
    {
     "name": "stdout",
     "output_type": "stream",
     "text": [
      "2024-06-13 03:57:29,941 INFO image_writer.py:197 - writing: ../.data/CaScore/model_output/TRV4P3/TRV4P3.nii.gz\n"
     ]
    },
    {
     "name": "stderr",
     "output_type": "stream",
     "text": [
      "100%|██████████| 42/42 [00:00<00:00, 82.30it/s]\n"
     ]
    },
    {
     "name": "stdout",
     "output_type": "stream",
     "text": [
      "2024-06-13 03:57:31,137 INFO image_writer.py:197 - writing: ../.data/CaScore/model_output/TRV4P3/TRV4P3_inference.nii.gz\n"
     ]
    },
    {
     "name": "stderr",
     "output_type": "stream",
     "text": [
      "5it [00:07,  1.45s/it]"
     ]
    },
    {
     "name": "stdout",
     "output_type": "stream",
     "text": [
      "2024-06-13 03:57:31,404 INFO image_writer.py:197 - writing: ../.data/CaScore/model_output/TRV4P1/TRV4P1.nii.gz\n"
     ]
    },
    {
     "name": "stderr",
     "output_type": "stream",
     "text": [
      "100%|██████████| 48/48 [00:00<00:00, 81.64it/s]\n"
     ]
    },
    {
     "name": "stdout",
     "output_type": "stream",
     "text": [
      "2024-06-13 03:57:32,763 INFO image_writer.py:197 - writing: ../.data/CaScore/model_output/TRV4P1/TRV4P1_inference.nii.gz\n"
     ]
    },
    {
     "name": "stderr",
     "output_type": "stream",
     "text": [
      "6it [00:09,  1.52s/it]"
     ]
    },
    {
     "name": "stdout",
     "output_type": "stream",
     "text": [
      "2024-06-13 03:57:33,061 INFO image_writer.py:197 - writing: ../.data/CaScore/model_output/TRV1P7/TRV1P7.nii.gz\n"
     ]
    },
    {
     "name": "stderr",
     "output_type": "stream",
     "text": [
      "100%|██████████| 56/56 [00:00<00:00, 81.48it/s]\n"
     ]
    },
    {
     "name": "stdout",
     "output_type": "stream",
     "text": [
      "2024-06-13 03:57:34,514 INFO image_writer.py:197 - writing: ../.data/CaScore/model_output/TRV1P7/TRV1P7_inference.nii.gz\n"
     ]
    },
    {
     "name": "stderr",
     "output_type": "stream",
     "text": [
      "7it [00:10,  1.60s/it]"
     ]
    },
    {
     "name": "stdout",
     "output_type": "stream",
     "text": [
      "2024-06-13 03:57:34,855 INFO image_writer.py:197 - writing: ../.data/CaScore/model_output/VAV1P2/VAV1P2.nii.gz\n"
     ]
    },
    {
     "name": "stderr",
     "output_type": "stream",
     "text": [
      "100%|██████████| 64/64 [00:00<00:00, 82.09it/s]"
     ]
    },
    {
     "name": "stdout",
     "output_type": "stream",
     "text": [
      "2024-06-13 03:57:36,553 INFO image_writer.py:197 - writing: ../.data/CaScore/model_output/VAV1P2/VAV1P2_inference.nii.gz\n"
     ]
    },
    {
     "name": "stderr",
     "output_type": "stream",
     "text": [
      "\n",
      "8it [00:12,  1.76s/it]"
     ]
    },
    {
     "name": "stdout",
     "output_type": "stream",
     "text": [
      "2024-06-13 03:57:36,902 INFO image_writer.py:197 - writing: ../.data/CaScore/model_output/TEV2P8/TEV2P8.nii.gz\n"
     ]
    },
    {
     "name": "stderr",
     "output_type": "stream",
     "text": [
      "100%|██████████| 54/54 [00:00<00:00, 81.66it/s]\n"
     ]
    },
    {
     "name": "stdout",
     "output_type": "stream",
     "text": [
      "2024-06-13 03:57:38,307 INFO image_writer.py:197 - writing: ../.data/CaScore/model_output/TEV2P8/TEV2P8_inference.nii.gz\n"
     ]
    },
    {
     "name": "stderr",
     "output_type": "stream",
     "text": [
      "9it [00:14,  1.74s/it]"
     ]
    },
    {
     "name": "stdout",
     "output_type": "stream",
     "text": [
      "2024-06-13 03:57:38,567 INFO image_writer.py:197 - writing: ../.data/CaScore/model_output/TEV3P8/TEV3P8.nii.gz\n"
     ]
    },
    {
     "name": "stderr",
     "output_type": "stream",
     "text": [
      "9it [00:15,  1.68s/it]\n"
     ]
    },
    {
     "ename": "KeyboardInterrupt",
     "evalue": "",
     "output_type": "error",
     "traceback": [
      "\u001b[0;31m---------------------------------------------------------------------------\u001b[0m",
      "\u001b[0;31mKeyboardInterrupt\u001b[0m                         Traceback (most recent call last)",
      "Cell \u001b[0;32mIn[4], line 2\u001b[0m\n\u001b[1;32m      1\u001b[0m \u001b[38;5;28;01mfor\u001b[39;00m file \u001b[38;5;129;01min\u001b[39;00m tqdm(images_folder\u001b[38;5;241m.\u001b[39mglob(\u001b[38;5;124m'\u001b[39m\u001b[38;5;124m*.nii.gz\u001b[39m\u001b[38;5;124m'\u001b[39m)):\n\u001b[0;32m----> 2\u001b[0m     \u001b[43minferer\u001b[49m\u001b[38;5;241;43m.\u001b[39;49m\u001b[43minference\u001b[49m\u001b[43m(\u001b[49m\u001b[43mfile\u001b[49m\u001b[43m)\u001b[49m\n",
      "File \u001b[0;32m~/Developer/Hemolens/plaques/calcium_scoring_cardiac_ct/scripts/inference.py:127\u001b[0m, in \u001b[0;36mInference.inference\u001b[0;34m(self, image_path)\u001b[0m\n\u001b[1;32m    125\u001b[0m \u001b[38;5;28;01mdef\u001b[39;00m \u001b[38;5;21minference\u001b[39m(\u001b[38;5;28mself\u001b[39m, image_path):\n\u001b[1;32m    126\u001b[0m     \u001b[38;5;28;01mtry\u001b[39;00m:\n\u001b[0;32m--> 127\u001b[0m         loaded_input \u001b[38;5;241m=\u001b[39m \u001b[38;5;28;43mself\u001b[39;49m\u001b[38;5;241;43m.\u001b[39;49m\u001b[43mtransformations\u001b[49m\u001b[43m(\u001b[49m\u001b[43mimage_path\u001b[49m\u001b[43m)\u001b[49m\n\u001b[1;32m    128\u001b[0m         loaded_input \u001b[38;5;241m=\u001b[39m loaded_input\u001b[38;5;241m.\u001b[39munsqueeze(\u001b[38;5;241m0\u001b[39m)\u001b[38;5;241m.\u001b[39mto(\u001b[38;5;124m'\u001b[39m\u001b[38;5;124mcuda\u001b[39m\u001b[38;5;124m'\u001b[39m)\n\u001b[1;32m    130\u001b[0m         output \u001b[38;5;241m=\u001b[39m \u001b[38;5;28mself\u001b[39m\u001b[38;5;241m.\u001b[39m_run_inference(loaded_input)\n",
      "File \u001b[0;32m~/miniconda3/envs/agatston/lib/python3.10/site-packages/monai/transforms/compose.py:335\u001b[0m, in \u001b[0;36mCompose.__call__\u001b[0;34m(self, input_, start, end, threading, lazy)\u001b[0m\n\u001b[1;32m    333\u001b[0m \u001b[38;5;28;01mdef\u001b[39;00m \u001b[38;5;21m__call__\u001b[39m(\u001b[38;5;28mself\u001b[39m, input_, start\u001b[38;5;241m=\u001b[39m\u001b[38;5;241m0\u001b[39m, end\u001b[38;5;241m=\u001b[39m\u001b[38;5;28;01mNone\u001b[39;00m, threading\u001b[38;5;241m=\u001b[39m\u001b[38;5;28;01mFalse\u001b[39;00m, lazy: \u001b[38;5;28mbool\u001b[39m \u001b[38;5;241m|\u001b[39m \u001b[38;5;28;01mNone\u001b[39;00m \u001b[38;5;241m=\u001b[39m \u001b[38;5;28;01mNone\u001b[39;00m):\n\u001b[1;32m    334\u001b[0m     _lazy \u001b[38;5;241m=\u001b[39m \u001b[38;5;28mself\u001b[39m\u001b[38;5;241m.\u001b[39m_lazy \u001b[38;5;28;01mif\u001b[39;00m lazy \u001b[38;5;129;01mis\u001b[39;00m \u001b[38;5;28;01mNone\u001b[39;00m \u001b[38;5;28;01melse\u001b[39;00m lazy\n\u001b[0;32m--> 335\u001b[0m     result \u001b[38;5;241m=\u001b[39m \u001b[43mexecute_compose\u001b[49m\u001b[43m(\u001b[49m\n\u001b[1;32m    336\u001b[0m \u001b[43m        \u001b[49m\u001b[43minput_\u001b[49m\u001b[43m,\u001b[49m\n\u001b[1;32m    337\u001b[0m \u001b[43m        \u001b[49m\u001b[43mtransforms\u001b[49m\u001b[38;5;241;43m=\u001b[39;49m\u001b[38;5;28;43mself\u001b[39;49m\u001b[38;5;241;43m.\u001b[39;49m\u001b[43mtransforms\u001b[49m\u001b[43m,\u001b[49m\n\u001b[1;32m    338\u001b[0m \u001b[43m        \u001b[49m\u001b[43mstart\u001b[49m\u001b[38;5;241;43m=\u001b[39;49m\u001b[43mstart\u001b[49m\u001b[43m,\u001b[49m\n\u001b[1;32m    339\u001b[0m \u001b[43m        \u001b[49m\u001b[43mend\u001b[49m\u001b[38;5;241;43m=\u001b[39;49m\u001b[43mend\u001b[49m\u001b[43m,\u001b[49m\n\u001b[1;32m    340\u001b[0m \u001b[43m        \u001b[49m\u001b[43mmap_items\u001b[49m\u001b[38;5;241;43m=\u001b[39;49m\u001b[38;5;28;43mself\u001b[39;49m\u001b[38;5;241;43m.\u001b[39;49m\u001b[43mmap_items\u001b[49m\u001b[43m,\u001b[49m\n\u001b[1;32m    341\u001b[0m \u001b[43m        \u001b[49m\u001b[43munpack_items\u001b[49m\u001b[38;5;241;43m=\u001b[39;49m\u001b[38;5;28;43mself\u001b[39;49m\u001b[38;5;241;43m.\u001b[39;49m\u001b[43munpack_items\u001b[49m\u001b[43m,\u001b[49m\n\u001b[1;32m    342\u001b[0m \u001b[43m        \u001b[49m\u001b[43mlazy\u001b[49m\u001b[38;5;241;43m=\u001b[39;49m\u001b[43m_lazy\u001b[49m\u001b[43m,\u001b[49m\n\u001b[1;32m    343\u001b[0m \u001b[43m        \u001b[49m\u001b[43moverrides\u001b[49m\u001b[38;5;241;43m=\u001b[39;49m\u001b[38;5;28;43mself\u001b[39;49m\u001b[38;5;241;43m.\u001b[39;49m\u001b[43moverrides\u001b[49m\u001b[43m,\u001b[49m\n\u001b[1;32m    344\u001b[0m \u001b[43m        \u001b[49m\u001b[43mthreading\u001b[49m\u001b[38;5;241;43m=\u001b[39;49m\u001b[43mthreading\u001b[49m\u001b[43m,\u001b[49m\n\u001b[1;32m    345\u001b[0m \u001b[43m        \u001b[49m\u001b[43mlog_stats\u001b[49m\u001b[38;5;241;43m=\u001b[39;49m\u001b[38;5;28;43mself\u001b[39;49m\u001b[38;5;241;43m.\u001b[39;49m\u001b[43mlog_stats\u001b[49m\u001b[43m,\u001b[49m\n\u001b[1;32m    346\u001b[0m \u001b[43m    \u001b[49m\u001b[43m)\u001b[49m\n\u001b[1;32m    348\u001b[0m     \u001b[38;5;28;01mreturn\u001b[39;00m result\n",
      "File \u001b[0;32m~/miniconda3/envs/agatston/lib/python3.10/site-packages/monai/transforms/compose.py:111\u001b[0m, in \u001b[0;36mexecute_compose\u001b[0;34m(data, transforms, map_items, unpack_items, start, end, lazy, overrides, threading, log_stats)\u001b[0m\n\u001b[1;32m    109\u001b[0m     \u001b[38;5;28;01mif\u001b[39;00m threading:\n\u001b[1;32m    110\u001b[0m         _transform \u001b[38;5;241m=\u001b[39m deepcopy(_transform) \u001b[38;5;28;01mif\u001b[39;00m \u001b[38;5;28misinstance\u001b[39m(_transform, ThreadUnsafe) \u001b[38;5;28;01melse\u001b[39;00m _transform\n\u001b[0;32m--> 111\u001b[0m     data \u001b[38;5;241m=\u001b[39m \u001b[43mapply_transform\u001b[49m\u001b[43m(\u001b[49m\n\u001b[1;32m    112\u001b[0m \u001b[43m        \u001b[49m\u001b[43m_transform\u001b[49m\u001b[43m,\u001b[49m\u001b[43m \u001b[49m\u001b[43mdata\u001b[49m\u001b[43m,\u001b[49m\u001b[43m \u001b[49m\u001b[43mmap_items\u001b[49m\u001b[43m,\u001b[49m\u001b[43m \u001b[49m\u001b[43munpack_items\u001b[49m\u001b[43m,\u001b[49m\u001b[43m \u001b[49m\u001b[43mlazy\u001b[49m\u001b[38;5;241;43m=\u001b[39;49m\u001b[43mlazy\u001b[49m\u001b[43m,\u001b[49m\u001b[43m \u001b[49m\u001b[43moverrides\u001b[49m\u001b[38;5;241;43m=\u001b[39;49m\u001b[43moverrides\u001b[49m\u001b[43m,\u001b[49m\u001b[43m \u001b[49m\u001b[43mlog_stats\u001b[49m\u001b[38;5;241;43m=\u001b[39;49m\u001b[43mlog_stats\u001b[49m\n\u001b[1;32m    113\u001b[0m \u001b[43m    \u001b[49m\u001b[43m)\u001b[49m\n\u001b[1;32m    114\u001b[0m data \u001b[38;5;241m=\u001b[39m apply_pending_transforms(data, \u001b[38;5;28;01mNone\u001b[39;00m, overrides, logger_name\u001b[38;5;241m=\u001b[39mlog_stats)\n\u001b[1;32m    115\u001b[0m \u001b[38;5;28;01mreturn\u001b[39;00m data\n",
      "File \u001b[0;32m~/miniconda3/envs/agatston/lib/python3.10/site-packages/monai/transforms/transform.py:141\u001b[0m, in \u001b[0;36mapply_transform\u001b[0;34m(transform, data, map_items, unpack_items, log_stats, lazy, overrides)\u001b[0m\n\u001b[1;32m    139\u001b[0m     \u001b[38;5;28;01mif\u001b[39;00m \u001b[38;5;28misinstance\u001b[39m(data, (\u001b[38;5;28mlist\u001b[39m, \u001b[38;5;28mtuple\u001b[39m)) \u001b[38;5;129;01mand\u001b[39;00m map_items:\n\u001b[1;32m    140\u001b[0m         \u001b[38;5;28;01mreturn\u001b[39;00m [_apply_transform(transform, item, unpack_items, lazy, overrides, log_stats) \u001b[38;5;28;01mfor\u001b[39;00m item \u001b[38;5;129;01min\u001b[39;00m data]\n\u001b[0;32m--> 141\u001b[0m     \u001b[38;5;28;01mreturn\u001b[39;00m \u001b[43m_apply_transform\u001b[49m\u001b[43m(\u001b[49m\u001b[43mtransform\u001b[49m\u001b[43m,\u001b[49m\u001b[43m \u001b[49m\u001b[43mdata\u001b[49m\u001b[43m,\u001b[49m\u001b[43m \u001b[49m\u001b[43munpack_items\u001b[49m\u001b[43m,\u001b[49m\u001b[43m \u001b[49m\u001b[43mlazy\u001b[49m\u001b[43m,\u001b[49m\u001b[43m \u001b[49m\u001b[43moverrides\u001b[49m\u001b[43m,\u001b[49m\u001b[43m \u001b[49m\u001b[43mlog_stats\u001b[49m\u001b[43m)\u001b[49m\n\u001b[1;32m    142\u001b[0m \u001b[38;5;28;01mexcept\u001b[39;00m \u001b[38;5;167;01mException\u001b[39;00m \u001b[38;5;28;01mas\u001b[39;00m e:\n\u001b[1;32m    143\u001b[0m     \u001b[38;5;66;03m# if in debug mode, don't swallow exception so that the breakpoint\u001b[39;00m\n\u001b[1;32m    144\u001b[0m     \u001b[38;5;66;03m# appears where the exception was raised.\u001b[39;00m\n\u001b[1;32m    145\u001b[0m     \u001b[38;5;28;01mif\u001b[39;00m MONAIEnvVars\u001b[38;5;241m.\u001b[39mdebug():\n",
      "File \u001b[0;32m~/miniconda3/envs/agatston/lib/python3.10/site-packages/monai/transforms/transform.py:98\u001b[0m, in \u001b[0;36m_apply_transform\u001b[0;34m(transform, data, unpack_parameters, lazy, overrides, logger_name)\u001b[0m\n\u001b[1;32m     95\u001b[0m \u001b[38;5;28;01mif\u001b[39;00m \u001b[38;5;28misinstance\u001b[39m(data, \u001b[38;5;28mtuple\u001b[39m) \u001b[38;5;129;01mand\u001b[39;00m unpack_parameters:\n\u001b[1;32m     96\u001b[0m     \u001b[38;5;28;01mreturn\u001b[39;00m transform(\u001b[38;5;241m*\u001b[39mdata, lazy\u001b[38;5;241m=\u001b[39mlazy) \u001b[38;5;28;01mif\u001b[39;00m \u001b[38;5;28misinstance\u001b[39m(transform, LazyTrait) \u001b[38;5;28;01melse\u001b[39;00m transform(\u001b[38;5;241m*\u001b[39mdata)\n\u001b[0;32m---> 98\u001b[0m \u001b[38;5;28;01mreturn\u001b[39;00m transform(data, lazy\u001b[38;5;241m=\u001b[39mlazy) \u001b[38;5;28;01mif\u001b[39;00m \u001b[38;5;28misinstance\u001b[39m(transform, LazyTrait) \u001b[38;5;28;01melse\u001b[39;00m \u001b[43mtransform\u001b[49m\u001b[43m(\u001b[49m\u001b[43mdata\u001b[49m\u001b[43m)\u001b[49m\n",
      "File \u001b[0;32m~/miniconda3/envs/agatston/lib/python3.10/site-packages/monai/transforms/io/array.py:497\u001b[0m, in \u001b[0;36mSaveImage.__call__\u001b[0;34m(self, img, meta_data, filename)\u001b[0m\n\u001b[1;32m    495\u001b[0m     writer_obj\u001b[38;5;241m.\u001b[39mset_data_array(data_array\u001b[38;5;241m=\u001b[39mimg, \u001b[38;5;241m*\u001b[39m\u001b[38;5;241m*\u001b[39m\u001b[38;5;28mself\u001b[39m\u001b[38;5;241m.\u001b[39mdata_kwargs)\n\u001b[1;32m    496\u001b[0m     writer_obj\u001b[38;5;241m.\u001b[39mset_metadata(meta_dict\u001b[38;5;241m=\u001b[39mmeta_data, \u001b[38;5;241m*\u001b[39m\u001b[38;5;241m*\u001b[39m\u001b[38;5;28mself\u001b[39m\u001b[38;5;241m.\u001b[39mmeta_kwargs)\n\u001b[0;32m--> 497\u001b[0m     \u001b[43mwriter_obj\u001b[49m\u001b[38;5;241;43m.\u001b[39;49m\u001b[43mwrite\u001b[49m\u001b[43m(\u001b[49m\u001b[43mfilename\u001b[49m\u001b[43m,\u001b[49m\u001b[43m \u001b[49m\u001b[38;5;241;43m*\u001b[39;49m\u001b[38;5;241;43m*\u001b[39;49m\u001b[38;5;28;43mself\u001b[39;49m\u001b[38;5;241;43m.\u001b[39;49m\u001b[43mwrite_kwargs\u001b[49m\u001b[43m)\u001b[49m\n\u001b[1;32m    498\u001b[0m     \u001b[38;5;28mself\u001b[39m\u001b[38;5;241m.\u001b[39mwriter_obj \u001b[38;5;241m=\u001b[39m writer_obj\n\u001b[1;32m    499\u001b[0m \u001b[38;5;28;01mexcept\u001b[39;00m \u001b[38;5;167;01mException\u001b[39;00m \u001b[38;5;28;01mas\u001b[39;00m e:\n",
      "File \u001b[0;32m~/miniconda3/envs/agatston/lib/python3.10/site-packages/monai/data/image_writer.py:638\u001b[0m, in \u001b[0;36mNibabelWriter.write\u001b[0;34m(self, filename, verbose, **obj_kwargs)\u001b[0m\n\u001b[1;32m    636\u001b[0m \u001b[38;5;28mself\u001b[39m\u001b[38;5;241m.\u001b[39mdata_obj\u001b[38;5;241m.\u001b[39mset_sform(_affine, code\u001b[38;5;241m=\u001b[39m\u001b[38;5;241m1\u001b[39m)\n\u001b[1;32m    637\u001b[0m \u001b[38;5;28mself\u001b[39m\u001b[38;5;241m.\u001b[39mdata_obj\u001b[38;5;241m.\u001b[39mset_qform(_affine, code\u001b[38;5;241m=\u001b[39m\u001b[38;5;241m1\u001b[39m)\n\u001b[0;32m--> 638\u001b[0m \u001b[43mnib\u001b[49m\u001b[38;5;241;43m.\u001b[39;49m\u001b[43msave\u001b[49m\u001b[43m(\u001b[49m\u001b[38;5;28;43mself\u001b[39;49m\u001b[38;5;241;43m.\u001b[39;49m\u001b[43mdata_obj\u001b[49m\u001b[43m,\u001b[49m\u001b[43m \u001b[49m\u001b[43mfilename\u001b[49m\u001b[43m)\u001b[49m\n",
      "File \u001b[0;32m~/miniconda3/envs/agatston/lib/python3.10/site-packages/nibabel/loadsave.py:163\u001b[0m, in \u001b[0;36msave\u001b[0;34m(img, filename, **kwargs)\u001b[0m\n\u001b[1;32m    161\u001b[0m \u001b[38;5;66;03m# Save the type as expected\u001b[39;00m\n\u001b[1;32m    162\u001b[0m \u001b[38;5;28;01mtry\u001b[39;00m:\n\u001b[0;32m--> 163\u001b[0m     \u001b[43mimg\u001b[49m\u001b[38;5;241;43m.\u001b[39;49m\u001b[43mto_filename\u001b[49m\u001b[43m(\u001b[49m\u001b[43mfilename\u001b[49m\u001b[43m,\u001b[49m\u001b[43m \u001b[49m\u001b[38;5;241;43m*\u001b[39;49m\u001b[38;5;241;43m*\u001b[39;49m\u001b[43mkwargs\u001b[49m\u001b[43m)\u001b[49m\n\u001b[1;32m    164\u001b[0m \u001b[38;5;28;01mexcept\u001b[39;00m ImageFileError:\n\u001b[1;32m    165\u001b[0m     \u001b[38;5;28;01mpass\u001b[39;00m\n",
      "File \u001b[0;32m~/miniconda3/envs/agatston/lib/python3.10/site-packages/nibabel/filebasedimages.py:307\u001b[0m, in \u001b[0;36mFileBasedImage.to_filename\u001b[0;34m(self, filename, **kwargs)\u001b[0m\n\u001b[1;32m    291\u001b[0m \u001b[38;5;250m\u001b[39m\u001b[38;5;124mr\u001b[39m\u001b[38;5;124;03m\"\"\"Write image to files implied by filename string\u001b[39;00m\n\u001b[1;32m    292\u001b[0m \n\u001b[1;32m    293\u001b[0m \u001b[38;5;124;03mParameters\u001b[39;00m\n\u001b[0;32m   (...)\u001b[0m\n\u001b[1;32m    304\u001b[0m \u001b[38;5;124;03mNone\u001b[39;00m\n\u001b[1;32m    305\u001b[0m \u001b[38;5;124;03m\"\"\"\u001b[39;00m\n\u001b[1;32m    306\u001b[0m \u001b[38;5;28mself\u001b[39m\u001b[38;5;241m.\u001b[39mfile_map \u001b[38;5;241m=\u001b[39m \u001b[38;5;28mself\u001b[39m\u001b[38;5;241m.\u001b[39mfilespec_to_file_map(filename)\n\u001b[0;32m--> 307\u001b[0m \u001b[38;5;28;43mself\u001b[39;49m\u001b[38;5;241;43m.\u001b[39;49m\u001b[43mto_file_map\u001b[49m\u001b[43m(\u001b[49m\u001b[38;5;241;43m*\u001b[39;49m\u001b[38;5;241;43m*\u001b[39;49m\u001b[43mkwargs\u001b[49m\u001b[43m)\u001b[49m\n",
      "File \u001b[0;32m~/miniconda3/envs/agatston/lib/python3.10/site-packages/nibabel/nifti1.py:2217\u001b[0m, in \u001b[0;36mNifti1Pair.to_file_map\u001b[0;34m(self, file_map, dtype)\u001b[0m\n\u001b[1;32m   2215\u001b[0m \u001b[38;5;28mself\u001b[39m\u001b[38;5;241m.\u001b[39mget_data_dtype(finalize\u001b[38;5;241m=\u001b[39m\u001b[38;5;28;01mTrue\u001b[39;00m)\n\u001b[1;32m   2216\u001b[0m \u001b[38;5;28;01mtry\u001b[39;00m:\n\u001b[0;32m-> 2217\u001b[0m     \u001b[38;5;28;43msuper\u001b[39;49m\u001b[43m(\u001b[49m\u001b[43m)\u001b[49m\u001b[38;5;241;43m.\u001b[39;49m\u001b[43mto_file_map\u001b[49m\u001b[43m(\u001b[49m\u001b[43mfile_map\u001b[49m\u001b[43m,\u001b[49m\u001b[43m \u001b[49m\u001b[43mdtype\u001b[49m\u001b[43m)\u001b[49m\n\u001b[1;32m   2218\u001b[0m \u001b[38;5;28;01mfinally\u001b[39;00m:\n\u001b[1;32m   2219\u001b[0m     \u001b[38;5;28mself\u001b[39m\u001b[38;5;241m.\u001b[39mset_data_dtype(img_dtype)\n",
      "File \u001b[0;32m~/miniconda3/envs/agatston/lib/python3.10/site-packages/nibabel/analyze.py:1051\u001b[0m, in \u001b[0;36mAnalyzeImage.to_file_map\u001b[0;34m(self, file_map, dtype)\u001b[0m\n\u001b[1;32m   1049\u001b[0m seek_tell(imgf, hdr\u001b[38;5;241m.\u001b[39mget_data_offset(), write0\u001b[38;5;241m=\u001b[39m\u001b[38;5;28;01mTrue\u001b[39;00m)\n\u001b[1;32m   1050\u001b[0m \u001b[38;5;66;03m# Write array data\u001b[39;00m\n\u001b[0;32m-> 1051\u001b[0m \u001b[43marr_writer\u001b[49m\u001b[38;5;241;43m.\u001b[39;49m\u001b[43mto_fileobj\u001b[49m\u001b[43m(\u001b[49m\u001b[43mimgf\u001b[49m\u001b[43m)\u001b[49m\n\u001b[1;32m   1052\u001b[0m hdrf\u001b[38;5;241m.\u001b[39mclose_if_mine()\n\u001b[1;32m   1053\u001b[0m \u001b[38;5;28;01mif\u001b[39;00m \u001b[38;5;129;01mnot\u001b[39;00m hdr_img_same:\n",
      "File \u001b[0;32m~/miniconda3/envs/agatston/lib/python3.10/site-packages/nibabel/arraywriters.py:525\u001b[0m, in \u001b[0;36mSlopeInterArrayWriter.to_fileobj\u001b[0;34m(self, fileobj, order)\u001b[0m\n\u001b[1;32m    516\u001b[0m \u001b[38;5;250m\u001b[39m\u001b[38;5;124;03m\"\"\"Write array into `fileobj`\u001b[39;00m\n\u001b[1;32m    517\u001b[0m \n\u001b[1;32m    518\u001b[0m \u001b[38;5;124;03mParameters\u001b[39;00m\n\u001b[0;32m   (...)\u001b[0m\n\u001b[1;32m    522\u001b[0m \u001b[38;5;124;03m    order (Fortran or C) to which to write array\u001b[39;00m\n\u001b[1;32m    523\u001b[0m \u001b[38;5;124;03m\"\"\"\u001b[39;00m\n\u001b[1;32m    524\u001b[0m mn, mx \u001b[38;5;241m=\u001b[39m \u001b[38;5;28mself\u001b[39m\u001b[38;5;241m.\u001b[39m_writing_range()\n\u001b[0;32m--> 525\u001b[0m \u001b[43marray_to_file\u001b[49m\u001b[43m(\u001b[49m\n\u001b[1;32m    526\u001b[0m \u001b[43m    \u001b[49m\u001b[38;5;28;43mself\u001b[39;49m\u001b[38;5;241;43m.\u001b[39;49m\u001b[43m_array\u001b[49m\u001b[43m,\u001b[49m\n\u001b[1;32m    527\u001b[0m \u001b[43m    \u001b[49m\u001b[43mfileobj\u001b[49m\u001b[43m,\u001b[49m\n\u001b[1;32m    528\u001b[0m \u001b[43m    \u001b[49m\u001b[38;5;28;43mself\u001b[39;49m\u001b[38;5;241;43m.\u001b[39;49m\u001b[43m_out_dtype\u001b[49m\u001b[43m,\u001b[49m\n\u001b[1;32m    529\u001b[0m \u001b[43m    \u001b[49m\u001b[43moffset\u001b[49m\u001b[38;5;241;43m=\u001b[39;49m\u001b[38;5;28;43;01mNone\u001b[39;49;00m\u001b[43m,\u001b[49m\n\u001b[1;32m    530\u001b[0m \u001b[43m    \u001b[49m\u001b[43mintercept\u001b[49m\u001b[38;5;241;43m=\u001b[39;49m\u001b[38;5;28;43mself\u001b[39;49m\u001b[38;5;241;43m.\u001b[39;49m\u001b[43minter\u001b[49m\u001b[43m,\u001b[49m\n\u001b[1;32m    531\u001b[0m \u001b[43m    \u001b[49m\u001b[43mdivslope\u001b[49m\u001b[38;5;241;43m=\u001b[39;49m\u001b[38;5;28;43mself\u001b[39;49m\u001b[38;5;241;43m.\u001b[39;49m\u001b[43mslope\u001b[49m\u001b[43m,\u001b[49m\n\u001b[1;32m    532\u001b[0m \u001b[43m    \u001b[49m\u001b[43mmn\u001b[49m\u001b[38;5;241;43m=\u001b[39;49m\u001b[43mmn\u001b[49m\u001b[43m,\u001b[49m\n\u001b[1;32m    533\u001b[0m \u001b[43m    \u001b[49m\u001b[43mmx\u001b[49m\u001b[38;5;241;43m=\u001b[39;49m\u001b[43mmx\u001b[49m\u001b[43m,\u001b[49m\n\u001b[1;32m    534\u001b[0m \u001b[43m    \u001b[49m\u001b[43morder\u001b[49m\u001b[38;5;241;43m=\u001b[39;49m\u001b[43morder\u001b[49m\u001b[43m,\u001b[49m\n\u001b[1;32m    535\u001b[0m \u001b[43m    \u001b[49m\u001b[43mnan2zero\u001b[49m\u001b[38;5;241;43m=\u001b[39;49m\u001b[38;5;28;43mself\u001b[39;49m\u001b[38;5;241;43m.\u001b[39;49m\u001b[43m_needs_nan2zero\u001b[49m\u001b[43m(\u001b[49m\u001b[43m)\u001b[49m\u001b[43m,\u001b[49m\n\u001b[1;32m    536\u001b[0m \u001b[43m\u001b[49m\u001b[43m)\u001b[49m\n",
      "File \u001b[0;32m~/miniconda3/envs/agatston/lib/python3.10/site-packages/nibabel/volumeutils.py:605\u001b[0m, in \u001b[0;36marray_to_file\u001b[0;34m(data, fileobj, out_dtype, offset, intercept, divslope, mn, mx, order, nan2zero)\u001b[0m\n\u001b[1;32m    603\u001b[0m     pre_clips \u001b[38;5;241m=\u001b[39m _dt_min_max(in_dtype, \u001b[38;5;241m*\u001b[39mpre_clips)\n\u001b[1;32m    604\u001b[0m \u001b[38;5;28;01mif\u001b[39;00m null_scaling \u001b[38;5;129;01mand\u001b[39;00m np\u001b[38;5;241m.\u001b[39mcan_cast(in_dtype, out_dtype):\n\u001b[0;32m--> 605\u001b[0m     \u001b[38;5;28;01mreturn\u001b[39;00m \u001b[43m_write_data\u001b[49m\u001b[43m(\u001b[49m\u001b[43mdata\u001b[49m\u001b[43m,\u001b[49m\u001b[43m \u001b[49m\u001b[43mfileobj\u001b[49m\u001b[43m,\u001b[49m\u001b[43m \u001b[49m\u001b[43mout_dtype\u001b[49m\u001b[43m,\u001b[49m\u001b[43m \u001b[49m\u001b[43morder\u001b[49m\u001b[43m,\u001b[49m\u001b[43m \u001b[49m\u001b[43mpre_clips\u001b[49m\u001b[38;5;241;43m=\u001b[39;49m\u001b[43mpre_clips\u001b[49m\u001b[43m)\u001b[49m\n\u001b[1;32m    606\u001b[0m \u001b[38;5;66;03m# Force upcasting for floats by making atleast_1d.\u001b[39;00m\n\u001b[1;32m    607\u001b[0m slope, inter \u001b[38;5;241m=\u001b[39m (np\u001b[38;5;241m.\u001b[39matleast_1d(v) \u001b[38;5;28;01mfor\u001b[39;00m v \u001b[38;5;129;01min\u001b[39;00m (divslope, intercept))\n",
      "File \u001b[0;32m~/miniconda3/envs/agatston/lib/python3.10/site-packages/nibabel/volumeutils.py:784\u001b[0m, in \u001b[0;36m_write_data\u001b[0;34m(data, fileobj, out_dtype, order, in_cast, pre_clips, inter, slope, post_clips, nan_fill)\u001b[0m\n\u001b[1;32m    782\u001b[0m \u001b[38;5;28;01mif\u001b[39;00m dslice\u001b[38;5;241m.\u001b[39mdtype \u001b[38;5;241m!=\u001b[39m out_dtype:\n\u001b[1;32m    783\u001b[0m     dslice \u001b[38;5;241m=\u001b[39m dslice\u001b[38;5;241m.\u001b[39mastype(out_dtype)\n\u001b[0;32m--> 784\u001b[0m \u001b[43mfileobj\u001b[49m\u001b[38;5;241;43m.\u001b[39;49m\u001b[43mwrite\u001b[49m\u001b[43m(\u001b[49m\u001b[43mdslice\u001b[49m\u001b[38;5;241;43m.\u001b[39;49m\u001b[43mtobytes\u001b[49m\u001b[43m(\u001b[49m\u001b[43m)\u001b[49m\u001b[43m)\u001b[49m\n",
      "File \u001b[0;32m~/miniconda3/envs/agatston/lib/python3.10/site-packages/nibabel/openers.py:232\u001b[0m, in \u001b[0;36mOpener.write\u001b[0;34m(self, b)\u001b[0m\n\u001b[1;32m    231\u001b[0m \u001b[38;5;28;01mdef\u001b[39;00m \u001b[38;5;21mwrite\u001b[39m(\u001b[38;5;28mself\u001b[39m, b: \u001b[38;5;28mbytes\u001b[39m, \u001b[38;5;241m/\u001b[39m) \u001b[38;5;241m-\u001b[39m\u001b[38;5;241m>\u001b[39m \u001b[38;5;28mint\u001b[39m \u001b[38;5;241m|\u001b[39m \u001b[38;5;28;01mNone\u001b[39;00m:\n\u001b[0;32m--> 232\u001b[0m     \u001b[38;5;28;01mreturn\u001b[39;00m \u001b[38;5;28;43mself\u001b[39;49m\u001b[38;5;241;43m.\u001b[39;49m\u001b[43mfobj\u001b[49m\u001b[38;5;241;43m.\u001b[39;49m\u001b[43mwrite\u001b[49m\u001b[43m(\u001b[49m\u001b[43mb\u001b[49m\u001b[43m)\u001b[49m\n",
      "File \u001b[0;32m~/miniconda3/envs/agatston/lib/python3.10/gzip.py:289\u001b[0m, in \u001b[0;36mGzipFile.write\u001b[0;34m(self, data)\u001b[0m\n\u001b[1;32m    286\u001b[0m     length \u001b[38;5;241m=\u001b[39m data\u001b[38;5;241m.\u001b[39mnbytes\n\u001b[1;32m    288\u001b[0m \u001b[38;5;28;01mif\u001b[39;00m length \u001b[38;5;241m>\u001b[39m \u001b[38;5;241m0\u001b[39m:\n\u001b[0;32m--> 289\u001b[0m     \u001b[38;5;28mself\u001b[39m\u001b[38;5;241m.\u001b[39mfileobj\u001b[38;5;241m.\u001b[39mwrite(\u001b[38;5;28;43mself\u001b[39;49m\u001b[38;5;241;43m.\u001b[39;49m\u001b[43mcompress\u001b[49m\u001b[38;5;241;43m.\u001b[39;49m\u001b[43mcompress\u001b[49m\u001b[43m(\u001b[49m\u001b[43mdata\u001b[49m\u001b[43m)\u001b[49m)\n\u001b[1;32m    290\u001b[0m     \u001b[38;5;28mself\u001b[39m\u001b[38;5;241m.\u001b[39msize \u001b[38;5;241m+\u001b[39m\u001b[38;5;241m=\u001b[39m length\n\u001b[1;32m    291\u001b[0m     \u001b[38;5;28mself\u001b[39m\u001b[38;5;241m.\u001b[39mcrc \u001b[38;5;241m=\u001b[39m zlib\u001b[38;5;241m.\u001b[39mcrc32(data, \u001b[38;5;28mself\u001b[39m\u001b[38;5;241m.\u001b[39mcrc)\n",
      "\u001b[0;31mKeyboardInterrupt\u001b[0m: "
     ]
    }
   ],
   "source": [
    "for file in tqdm(images_folder.glob('*.nii.gz')):\n",
    "    inferer.inference(file)"
   ]
  },
  {
   "cell_type": "markdown",
   "metadata": {},
   "source": [
    "### Calculate Agatston"
   ]
  },
  {
   "cell_type": "code",
   "execution_count": 7,
   "metadata": {},
   "outputs": [],
   "source": [
    "for path in output_dir.glob('*/*_inference.nii.gz'):\n",
    "    shutil.move(path, \"../.data/CaScore/predictions\")"
   ]
  },
  {
   "cell_type": "code",
   "execution_count": 4,
   "metadata": {},
   "outputs": [],
   "source": [
    "import os\n",
    "\n",
    "from glob import glob"
   ]
  },
  {
   "cell_type": "code",
   "execution_count": 5,
   "metadata": {},
   "outputs": [
    {
     "data": {
      "text/plain": [
       "72"
      ]
     },
     "execution_count": 5,
     "metadata": {},
     "output_type": "execute_result"
    }
   ],
   "source": [
    "len(glob(os.path.join('../.data/CaScore/raw_plaques', '*')))"
   ]
  },
  {
   "cell_type": "code",
   "execution_count": 11,
   "metadata": {},
   "outputs": [
    {
     "data": {
      "text/plain": [
       "71"
      ]
     },
     "execution_count": 11,
     "metadata": {},
     "output_type": "execute_result"
    }
   ],
   "source": [
    "len(glob(os.path.join('../.data/CaScore/predictions', '*')))"
   ]
  },
  {
   "cell_type": "code",
   "execution_count": 13,
   "metadata": {},
   "outputs": [
    {
     "name": "stderr",
     "output_type": "stream",
     "text": [
      "  0%|          | 0/71 [00:00<?, ?it/s]\n"
     ]
    },
    {
     "ename": "TypeError",
     "evalue": "type NoneType doesn't define __round__ method",
     "output_type": "error",
     "traceback": [
      "\u001b[0;31m---------------------------------------------------------------------------\u001b[0m",
      "\u001b[0;31mTypeError\u001b[0m                                 Traceback (most recent call last)",
      "Cell \u001b[0;32mIn[13], line 1\u001b[0m\n\u001b[0;32m----> 1\u001b[0m \u001b[43mmain\u001b[49m\u001b[43m(\u001b[49m\u001b[43mimages_folder\u001b[49m\u001b[43m,\u001b[49m\n\u001b[1;32m      2\u001b[0m \u001b[43m    \u001b[49m\u001b[38;5;124;43m'\u001b[39;49m\u001b[38;5;124;43m../.data/CaScore/predictions\u001b[39;49m\u001b[38;5;124;43m'\u001b[39;49m\u001b[43m,\u001b[49m\n\u001b[1;32m      3\u001b[0m \u001b[43m    \u001b[49m\u001b[38;5;124;43m'\u001b[39;49m\u001b[38;5;124;43m../.data/CaScore/default/raw_plaques\u001b[39;49m\u001b[38;5;124;43m'\u001b[39;49m\u001b[43m)\u001b[49m\n",
      "File \u001b[0;32m~/Developer/Hemolens/plaques/calcium_scoring_cardiac_ct/scripts/calculate_agatston.py:58\u001b[0m, in \u001b[0;36mmain\u001b[0;34m(image_folder_path, inference_folder_path, label_folder_path)\u001b[0m\n\u001b[1;32m     55\u001b[0m label_path \u001b[38;5;241m=\u001b[39m row[\u001b[38;5;124m\"\u001b[39m\u001b[38;5;124mlabels_path\u001b[39m\u001b[38;5;124m\"\u001b[39m]\n\u001b[1;32m     57\u001b[0m \u001b[38;5;66;03m# Calculate Agatston scores\u001b[39;00m\n\u001b[0;32m---> 58\u001b[0m agatston_inference \u001b[38;5;241m=\u001b[39m \u001b[43magatston_tool\u001b[49m\u001b[38;5;241;43m.\u001b[39;49m\u001b[43magatston_score\u001b[49m\u001b[43m(\u001b[49m\n\u001b[1;32m     59\u001b[0m \u001b[43m    \u001b[49m\u001b[43mimage_path\u001b[49m\u001b[38;5;241;43m=\u001b[39;49m\u001b[43mimage_path\u001b[49m\u001b[43m,\u001b[49m\u001b[43m \u001b[49m\u001b[43mmask_path\u001b[49m\u001b[38;5;241;43m=\u001b[39;49m\u001b[43minference_path\u001b[49m\n\u001b[1;32m     60\u001b[0m \u001b[43m\u001b[49m\u001b[43m)\u001b[49m\n\u001b[1;32m     61\u001b[0m agatston_labels \u001b[38;5;241m=\u001b[39m agatston_tool\u001b[38;5;241m.\u001b[39magatston_score(\n\u001b[1;32m     62\u001b[0m     image_path\u001b[38;5;241m=\u001b[39mimage_path, mask_path\u001b[38;5;241m=\u001b[39mlabel_path\n\u001b[1;32m     63\u001b[0m )\n\u001b[1;32m     65\u001b[0m \u001b[38;5;66;03m# Calculate plaque volumes\u001b[39;00m\n",
      "File \u001b[0;32m~/Developer/Hemolens/plaques/calcium_scoring_cardiac_ct/src/agatston/tools/agatston_tool.py:84\u001b[0m, in \u001b[0;36magatston_score\u001b[0;34m(image_path, mask_path, is_calcium_volume)\u001b[0m\n\u001b[1;32m     81\u001b[0m                     \u001b[38;5;28;01mcontinue\u001b[39;00m\n\u001b[1;32m     83\u001b[0m                 roi_area \u001b[38;5;241m=\u001b[39m np\u001b[38;5;241m.\u001b[39msum(label)\n\u001b[0;32m---> 84\u001b[0m                 agatston_score \u001b[38;5;241m+\u001b[39m\u001b[38;5;241m=\u001b[39m \u001b[38;5;28;43mround\u001b[39;49m\u001b[43m(\u001b[49m\u001b[43mdensity_factor\u001b[49m\u001b[43m(\u001b[49m\u001b[43mcluster_volume\u001b[49m\u001b[43m,\u001b[49m\u001b[43m \u001b[49m\u001b[43mroi_area\u001b[49m\u001b[43m)\u001b[49m\u001b[43m,\u001b[49m\u001b[43m \u001b[49m\u001b[38;5;241;43m3\u001b[39;49m\u001b[43m)\u001b[49m\n\u001b[1;32m     85\u001b[0m \u001b[38;5;28;01mif\u001b[39;00m is_calcium_volume:\n\u001b[1;32m     86\u001b[0m     \u001b[38;5;28;01mreturn\u001b[39;00m calcium_volume\n",
      "\u001b[0;31mTypeError\u001b[0m: type NoneType doesn't define __round__ method"
     ]
    }
   ],
   "source": [
    "main(images_folder,\n",
    "    '../.data/CaScore/predictions',\n",
    "    '../.data/CaScore/default/raw_plaques')"
   ]
  },
  {
   "cell_type": "code",
   "execution_count": null,
   "metadata": {},
   "outputs": [],
   "source": []
  }
 ],
 "metadata": {
  "kernelspec": {
   "display_name": "agatston",
   "language": "python",
   "name": "python3"
  },
  "language_info": {
   "codemirror_mode": {
    "name": "ipython",
    "version": 3
   },
   "file_extension": ".py",
   "mimetype": "text/x-python",
   "name": "python",
   "nbconvert_exporter": "python",
   "pygments_lexer": "ipython3",
   "version": "3.10.14"
  }
 },
 "nbformat": 4,
 "nbformat_minor": 2
}
